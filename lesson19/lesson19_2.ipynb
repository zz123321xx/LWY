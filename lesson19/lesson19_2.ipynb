{
 "cells": [
  {
   "cell_type": "code",
   "execution_count": 15,
   "id": "876cc940",
   "metadata": {},
   "outputs": [
    {
     "data": {
      "text/html": [
       "<div>\n",
       "<style scoped>\n",
       "    .dataframe tbody tr th:only-of-type {\n",
       "        vertical-align: middle;\n",
       "    }\n",
       "\n",
       "    .dataframe tbody tr th {\n",
       "        vertical-align: top;\n",
       "    }\n",
       "\n",
       "    .dataframe thead th {\n",
       "        text-align: right;\n",
       "    }\n",
       "</style>\n",
       "<table border=\"1\" class=\"dataframe\">\n",
       "  <thead>\n",
       "    <tr style=\"text-align: right;\">\n",
       "      <th></th>\n",
       "      <th>車站代碼</th>\n",
       "      <th>車站名稱</th>\n",
       "    </tr>\n",
       "  </thead>\n",
       "  <tbody>\n",
       "    <tr>\n",
       "      <th>0</th>\n",
       "      <td>900</td>\n",
       "      <td>基隆</td>\n",
       "    </tr>\n",
       "    <tr>\n",
       "      <th>1</th>\n",
       "      <td>910</td>\n",
       "      <td>三坑</td>\n",
       "    </tr>\n",
       "    <tr>\n",
       "      <th>2</th>\n",
       "      <td>920</td>\n",
       "      <td>八堵</td>\n",
       "    </tr>\n",
       "    <tr>\n",
       "      <th>3</th>\n",
       "      <td>930</td>\n",
       "      <td>七堵</td>\n",
       "    </tr>\n",
       "    <tr>\n",
       "      <th>4</th>\n",
       "      <td>940</td>\n",
       "      <td>百福</td>\n",
       "    </tr>\n",
       "  </tbody>\n",
       "</table>\n",
       "</div>"
      ],
      "text/plain": [
       "   車站代碼 車站名稱\n",
       "0   900   基隆\n",
       "1   910   三坑\n",
       "2   920   八堵\n",
       "3   930   七堵\n",
       "4   940   百福"
      ]
     },
     "execution_count": 15,
     "metadata": {},
     "output_type": "execute_result"
    }
   ],
   "source": [
    "import pandas as pd\n",
    "from pathlib import Path\n",
    "\n",
    "current_dir = Path.cwd()\n",
    "# 若 CSV 與此 notebook 同資料夾\n",
    "csv_path = current_dir / \"台鐵車站資訊.csv\"\n",
    "stations_df = pd.read_csv(csv_path)\n",
    "stations_df.head()\n",
    "# 僅保留stationCode和stationName兩個欄位\n",
    "stations_df1 = stations_df[[\"stationCode\", \"stationName\"]]\n",
    "stations_df1.head()\n",
    "\n",
    "#將欄位名改成車站代碼和車站名稱\n",
    "stations_df1.columns = [\"車站代碼\", \"車站名稱\"]\n",
    "stations_df1.head()"
   ]
  },
  {
   "cell_type": "code",
   "execution_count": 14,
   "id": "e32fe043",
   "metadata": {},
   "outputs": [
    {
     "data": {
      "text/html": [
       "<div>\n",
       "<style scoped>\n",
       "    .dataframe tbody tr th:only-of-type {\n",
       "        vertical-align: middle;\n",
       "    }\n",
       "\n",
       "    .dataframe tbody tr th {\n",
       "        vertical-align: top;\n",
       "    }\n",
       "\n",
       "    .dataframe thead th {\n",
       "        text-align: right;\n",
       "    }\n",
       "</style>\n",
       "<table border=\"1\" class=\"dataframe\">\n",
       "  <thead>\n",
       "    <tr style=\"text-align: right;\">\n",
       "      <th></th>\n",
       "      <th>日期</th>\n",
       "      <th>車站代碼</th>\n",
       "      <th>進站人數</th>\n",
       "      <th>出站人數</th>\n",
       "    </tr>\n",
       "  </thead>\n",
       "  <tbody>\n",
       "    <tr>\n",
       "      <th>0</th>\n",
       "      <td>20200101</td>\n",
       "      <td>900</td>\n",
       "      <td>7552</td>\n",
       "      <td>8154</td>\n",
       "    </tr>\n",
       "    <tr>\n",
       "      <th>1</th>\n",
       "      <td>20200101</td>\n",
       "      <td>910</td>\n",
       "      <td>1020</td>\n",
       "      <td>1135</td>\n",
       "    </tr>\n",
       "    <tr>\n",
       "      <th>2</th>\n",
       "      <td>20200101</td>\n",
       "      <td>920</td>\n",
       "      <td>1623</td>\n",
       "      <td>1972</td>\n",
       "    </tr>\n",
       "    <tr>\n",
       "      <th>3</th>\n",
       "      <td>20200101</td>\n",
       "      <td>930</td>\n",
       "      <td>4130</td>\n",
       "      <td>4813</td>\n",
       "    </tr>\n",
       "    <tr>\n",
       "      <th>4</th>\n",
       "      <td>20200101</td>\n",
       "      <td>940</td>\n",
       "      <td>1818</td>\n",
       "      <td>2128</td>\n",
       "    </tr>\n",
       "  </tbody>\n",
       "</table>\n",
       "</div>"
      ],
      "text/plain": [
       "         日期  車站代碼  進站人數  出站人數\n",
       "0  20200101   900  7552  8154\n",
       "1  20200101   910  1020  1135\n",
       "2  20200101   920  1623  1972\n",
       "3  20200101   930  4130  4813\n",
       "4  20200101   940  1818  2128"
      ]
     },
     "metadata": {},
     "output_type": "display_data"
    },
    {
     "name": "stdout",
     "output_type": "stream",
     "text": [
      "<class 'pandas.core.frame.DataFrame'>\n",
      "RangeIndex: 86932 entries, 0 to 86931\n",
      "Data columns (total 4 columns):\n",
      " #   Column  Non-Null Count  Dtype         \n",
      "---  ------  --------------  -----         \n",
      " 0   日期      86932 non-null  datetime64[ns]\n",
      " 1   車站代碼    86932 non-null  int64         \n",
      " 2   進站人數    86932 non-null  int64         \n",
      " 3   出站人數    86932 non-null  int64         \n",
      "dtypes: datetime64[ns](1), int64(3)\n",
      "memory usage: 2.7 MB\n"
     ]
    }
   ],
   "source": [
    "current_dir = Path.cwd()\n",
    "# 若 CSV 與此 notebook 同資料夾\n",
    "csv_path = current_dir / \"每日各站進出站人數/每日各站進出站人數2020.csv\"\n",
    "year_df = pd.read_csv(csv_path)\n",
    "year_df.columns = [\"日期\", \"車站代碼\", \"進站人數\", \"出站人數\"]\n",
    "display(year_df.head())\n",
    "#日期欄位目前是int64, 需要轉換為datetime格式\n",
    "year_df[\"日期\"] = pd.to_datetime(year_df[\"日期\"], format=\"%Y%m%d\")\n",
    "year_df.info()"
   ]
  },
  {
   "cell_type": "code",
   "execution_count": null,
   "id": "8a5772a8",
   "metadata": {},
   "outputs": [],
   "source": [
    "merged_df_2020= pd.merge(year_df, stations_df, on=\"車站代碼\")\n",
    "merged_df_2020 = merged_df_2020.reindex(columns=[\"日期\",\"車站名稱\",\"進站人數\",\"出站人數\"])\n",
    "merged_df_2020.head()\n",
    "#將欄位:日期,變為index\n",
    "merged_df_2020.set_index(\"日期\", inplace=True)"
   ]
  },
  {
   "cell_type": "code",
   "execution_count": null,
   "id": "e107d524",
   "metadata": {},
   "outputs": [],
   "source": [
    "merged_df_2020.loc[\"2020-01-01\"] #搜尋2020年1月1日的資料\n",
    "merged_df_2020.loc[\"2020-01\"] #搜尋2020年1月的資料\n",
    "merged_df_2020.loc[\"2020-01\":\"2020-02\"] #搜尋2020年1,2月的資料\n",
    "merged_df_2020.loc[\"2020-01\":\"2020-02\"].query(\"車站名稱 == '基隆'\")"
   ]
  }
 ],
 "metadata": {
  "kernelspec": {
   "display_name": "LWY",
   "language": "python",
   "name": "python3"
  },
  "language_info": {
   "codemirror_mode": {
    "name": "ipython",
    "version": 3
   },
   "file_extension": ".py",
   "mimetype": "text/x-python",
   "name": "python",
   "nbconvert_exporter": "python",
   "pygments_lexer": "ipython3",
   "version": "3.12.11"
  }
 },
 "nbformat": 4,
 "nbformat_minor": 5
}
