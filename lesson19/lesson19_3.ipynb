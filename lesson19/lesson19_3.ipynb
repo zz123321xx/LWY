{
 "cells": [
  {
   "cell_type": "code",
   "execution_count": 5,
   "id": "ed632d2d",
   "metadata": {},
   "outputs": [
    {
     "name": "stdout",
     "output_type": "stream",
     "text": [
      "資料夾絕對路徑:\n",
      "C:\\Users\\User\\Documents\\Github\\LWY\\lesson19\\每日各站進出站人數\n",
      "\n",
      "檔案絕對路徑 (已排除 manifest.csv, schema.csv):\n",
      "['C:\\\\Users\\\\User\\\\Documents\\\\Github\\\\LWY\\\\lesson19\\\\每日各站進出站人數\\\\每日各站進出站人數20190423-20191231.csv',\n",
      " 'C:\\\\Users\\\\User\\\\Documents\\\\Github\\\\LWY\\\\lesson19\\\\每日各站進出站人數\\\\每日各站進出站人數2020.csv',\n",
      " 'C:\\\\Users\\\\User\\\\Documents\\\\Github\\\\LWY\\\\lesson19\\\\每日各站進出站人數\\\\每日各站進出站人數2021.csv',\n",
      " 'C:\\\\Users\\\\User\\\\Documents\\\\Github\\\\LWY\\\\lesson19\\\\每日各站進出站人數\\\\每日各站進出站人數2022.csv',\n",
      " 'C:\\\\Users\\\\User\\\\Documents\\\\Github\\\\LWY\\\\lesson19\\\\每日各站進出站人數\\\\每日各站進出站人數2023.csv']\n"
     ]
    }
   ],
   "source": [
    "from pathlib import Path\n",
    "from pprint import pprint\n",
    "\n",
    "def list_daily_flow_files(base_dir: Path | None = None):\n",
    "    \"\"\"\n",
    "    1. 取得 '每日各站進出站人數' 資料夾\n",
    "    2. 取得其中所有 CSV 檔案的絕對路徑\n",
    "    3. 排除 manifest.csv 與 schema.csv\n",
    "    \"\"\"\n",
    "    if base_dir is None:\n",
    "        base_dir = Path.cwd()  # 與 lesson19_2.ipynb 做法一致\n",
    "    target_dir = base_dir / \"每日各站進出站人數\"\n",
    "    if not target_dir.is_dir():\n",
    "        raise FileNotFoundError(f\"找不到資料夾: {target_dir}\")\n",
    "\n",
    "    excluded = {\"manifest.csv\", \"schema.csv\"}\n",
    "    csv_paths = sorted(p.resolve()\n",
    "        for p in target_dir.glob(\"*.csv\")\n",
    "        if p.name not in excluded\n",
    "    )\n",
    "    return target_dir.resolve(), csv_paths\n",
    "\n",
    "folder_abs_path, file_abs_paths = list_daily_flow_files()\n",
    "\n",
    "print(\"資料夾絕對路徑:\")\n",
    "print(folder_abs_path)\n",
    "print(\"\\n檔案絕對路徑 (已排除 manifest.csv, schema.csv):\")\n",
    "pprint([str(p) for p in file_abs_paths])"
   ]
  }
 ],
 "metadata": {
  "kernelspec": {
   "display_name": "LWY",
   "language": "python",
   "name": "python3"
  },
  "language_info": {
   "codemirror_mode": {
    "name": "ipython",
    "version": 3
   },
   "file_extension": ".py",
   "mimetype": "text/x-python",
   "name": "python",
   "nbconvert_exporter": "python",
   "pygments_lexer": "ipython3",
   "version": "3.12.11"
  }
 },
 "nbformat": 4,
 "nbformat_minor": 5
}
