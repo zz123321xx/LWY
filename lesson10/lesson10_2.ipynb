{
 "cells": [
  {
   "cell_type": "code",
   "execution_count": 2,
   "id": "5543edfa",
   "metadata": {},
   "outputs": [
    {
     "data": {
      "text/plain": [
       "0"
      ]
     },
     "execution_count": 2,
     "metadata": {},
     "output_type": "execute_result"
    }
   ],
   "source": [
    "#建立list\n",
    "empty_list = []\n",
    "type(empty_list)\n",
    "len(empty_list)"
   ]
  },
  {
   "cell_type": "code",
   "execution_count": 3,
   "id": "863a5aa0",
   "metadata": {},
   "outputs": [
    {
     "name": "stdout",
     "output_type": "stream",
     "text": [
      "星期一\n",
      "星期二\n",
      "星期三\n",
      "星期四\n",
      "星期五\n",
      "星期六\n",
      "星期日\n"
     ]
    }
   ],
   "source": [
    "weekdays = ['星期一', '星期二', '星期三', '星期四', '星期五', '星期六', '星期日']\n",
    "weekdays\n",
    "len(weekdays)\n",
    "for day in weekdays:\n",
    "    print(day)"
   ]
  },
  {
   "cell_type": "code",
   "execution_count": 4,
   "id": "bf3ae765",
   "metadata": {},
   "outputs": [
    {
     "data": {
      "text/plain": [
       "['星期一', '星期二', '星期三', '星期四', '星期五', '星期六', '星期日']"
      ]
     },
     "execution_count": 4,
     "metadata": {},
     "output_type": "execute_result"
    }
   ],
   "source": [
    "weekdays = ['星期一', '星期二', '星期三', '星期四', '星期五', '星期六', '星期日']\n",
    "weekdays"
   ]
  },
  {
   "cell_type": "code",
   "execution_count": 5,
   "id": "a1d5aef5",
   "metadata": {},
   "outputs": [
    {
     "data": {
      "text/plain": [
       "['星期一', '星期二']"
      ]
     },
     "execution_count": 5,
     "metadata": {},
     "output_type": "execute_result"
    }
   ],
   "source": [
    "#取出元素\n",
    "#變數[]->subscript\n",
    "\n",
    "weekdays[0]\n",
    "weekdays[0:2]"
   ]
  },
  {
   "cell_type": "code",
   "execution_count": 7,
   "id": "f2468d84",
   "metadata": {},
   "outputs": [
    {
     "data": {
      "text/plain": [
       "['星期五', '星期六', '星期日']"
      ]
     },
     "execution_count": 7,
     "metadata": {},
     "output_type": "execute_result"
    }
   ],
   "source": [
    "#取出部份元素\n",
    "#變數[前面:後面]\n",
    "#slice->切割\n",
    "weekdays[0:3]\n",
    "weekdays[:3]\n",
    "weekdays[-3:-1]\n",
    "weekdays[-3:]\n",
    "weekdays[:]\n",
    "weekdays[-3:]"
   ]
  },
  {
   "cell_type": "code",
   "execution_count": null,
   "id": "26fc72f2",
   "metadata": {},
   "outputs": [],
   "source": [
    "#tuple\n",
    "#tuple是不可以新增,修改,刪除元素\n",
    "#暫時的資料\n",
    "('a','A')\n",
    "'a','A'\n",
    "\n",
    "#tuple使用拆解法\n",
    "name, score = 'robert', 300\n",
    "name\n",
    "score"
   ]
  },
  {
   "cell_type": "code",
   "execution_count": 14,
   "id": "416263a1",
   "metadata": {},
   "outputs": [
    {
     "data": {
      "text/plain": [
       "[2, 4, 6, 8]"
      ]
     },
     "execution_count": 14,
     "metadata": {},
     "output_type": "execute_result"
    }
   ],
   "source": [
    "#list comprehension -> list的綜合語法\n",
    "#快速建立list\n",
    "#[運算式 for 區塊變數 in 串列資料]\n",
    "\n",
    "[i*5 for i in range(1,10)]\n",
    "\n",
    "#[運算式 for 區塊變數 in 串列資料 if 比較運算]\n",
    "[i for i in range(1,10) if i % 2 == 0]"
   ]
  }
 ],
 "metadata": {
  "kernelspec": {
   "display_name": "base",
   "language": "python",
   "name": "python3"
  },
  "language_info": {
   "codemirror_mode": {
    "name": "ipython",
    "version": 3
   },
   "file_extension": ".py",
   "mimetype": "text/x-python",
   "name": "python",
   "nbconvert_exporter": "python",
   "pygments_lexer": "ipython3",
   "version": "3.13.2"
  }
 },
 "nbformat": 4,
 "nbformat_minor": 5
}
