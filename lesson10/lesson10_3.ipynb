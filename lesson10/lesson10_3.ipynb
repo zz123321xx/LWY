{
 "cells": [
  {
   "cell_type": "code",
   "execution_count": 4,
   "id": "c490708d",
   "metadata": {},
   "outputs": [
    {
     "name": "stdout",
     "output_type": "stream",
     "text": [
      "<class 'list'>\n"
     ]
    }
   ],
   "source": [
    "my_list:list = [i for i in range(10)]\n",
    "print(type(my_list))\n",
    "#list的實體方法\n",
    "my_list.append(10)"
   ]
  },
  {
   "cell_type": "code",
   "execution_count": 5,
   "id": "1af356c6",
   "metadata": {},
   "outputs": [
    {
     "data": {
      "text/plain": [
       "[0, 1, 2, 3, 4, 5, 6, 7, 8, 9, 10]"
      ]
     },
     "execution_count": 5,
     "metadata": {},
     "output_type": "execute_result"
    }
   ],
   "source": [
    "my_list"
   ]
  },
  {
   "cell_type": "code",
   "execution_count": null,
   "id": "030e1b47",
   "metadata": {},
   "outputs": [
    {
     "data": {
      "text/plain": [
       "[-1, 11]"
      ]
     },
     "execution_count": 16,
     "metadata": {},
     "output_type": "execute_result"
    }
   ],
   "source": [
    "#建立my_list常用的實體方法\n",
    "my_list.clear()  # 清空列表\n",
    "my_list\n",
    "my_list.append(10)  # 在列表末尾添加元素\n",
    "my_list\n",
    "my_list.extend([11, 12])  # 在列表末尾添加多個元素\n",
    "my_list\n",
    "my_list.insert(0, -1)  # 在指定位置插入元素\n",
    "my_list\n",
    "my_list.remove(10)  # 移除列表中的第一個匹配項\n",
    "my_list\n",
    "my_list.pop()  # 移除並返回列表中的最後一個元素\n",
    "my_list"
   ]
  },
  {
   "cell_type": "code",
   "execution_count": null,
   "id": "e65b5ff0",
   "metadata": {},
   "outputs": [
    {
     "data": {
      "text/plain": [
       "['robert', 'jenny', 'alice']"
      ]
     },
     "execution_count": 17,
     "metadata": {},
     "output_type": "execute_result"
    }
   ],
   "source": [
    "#str的實體方法\n",
    "\"taipei\".upper()        #全都改大寫\n",
    "\"taipei\".capitalize()   #首字改大寫\n",
    "\"  taipei \".strip()     #前後兩端或指定地點的空排消除\n",
    "\"robert,jenny,alice\".split(\",\")    #把字串切割成一個列表（list）開 以.為基準"
   ]
  }
 ],
 "metadata": {
  "kernelspec": {
   "display_name": "base",
   "language": "python",
   "name": "python3"
  },
  "language_info": {
   "codemirror_mode": {
    "name": "ipython",
    "version": 3
   },
   "file_extension": ".py",
   "mimetype": "text/x-python",
   "name": "python",
   "nbconvert_exporter": "python",
   "pygments_lexer": "ipython3",
   "version": "3.13.2"
  }
 },
 "nbformat": 4,
 "nbformat_minor": 5
}
