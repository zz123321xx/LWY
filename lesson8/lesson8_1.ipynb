{
 "cells": [
  {
   "cell_type": "code",
   "execution_count": null,
   "id": "46893b05",
   "metadata": {},
   "outputs": [],
   "source": [
    "import random\n",
    "\n",
    "play_count = 0\n",
    "\n",
    "while(True):\n",
    "    play_count += 1\n",
    "    min = 1\n",
    "    max = 100\n",
    "    count = 0\n",
    "    guess_value = random.randint(min,max)\n",
    "    print(guess_value)\n",
    "    print(\"==========猜數字遊戲===========\\n\")\n",
    "    while(True):\n",
    "        try:\n",
    "            count += 1\n",
    "            keyin = int(input(f\"猜數字範圍{min}~{max}\"))        \n",
    "            if keyin >= min and keyin <= max:\n",
    "                if(keyin == guess_value):\n",
    "                    print(f\"賓果!猜對了,答案是:{guess_value}\")\n",
    "                    print(f\"您猜了{count}次\")\n",
    "                    break\n",
    "                elif keyin > guess_value:\n",
    "                    print(\"再小一點!\")\n",
    "                    max = keyin - 1\n",
    "                \n",
    "                else:\n",
    "                    print(\"再大一點\")\n",
    "                    min = keyin + 1\n",
    "\n",
    "                print(f\"您已經猜{count}次\")\n",
    "                \n",
    "            else:\n",
    "                print(\"請輸入提示範圍內的數字\")\n",
    "        except ValueError:\n",
    "            print(\"格式錯誤\")\n",
    "        except Exception as e:\n",
    "            print(e)\n",
    "    is_continue = input(\"您還要繼續嗎(y,n)?\")\n",
    "    if is_continue == \"n\":\n",
    "        break\n",
    "\n",
    "print(f\"您共玩了{play_count}次\")\n",
    "print(\"遊戲結束\")"
   ]
  }
 ],
 "metadata": {
  "kernelspec": {
   "display_name": "base",
   "language": "python",
   "name": "python3"
  },
  "language_info": {
   "name": "python",
   "version": "3.13.2"
  }
 },
 "nbformat": 4,
 "nbformat_minor": 5
}
