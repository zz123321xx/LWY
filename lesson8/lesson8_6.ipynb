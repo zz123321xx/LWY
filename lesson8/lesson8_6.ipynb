{
 "cells": [
  {
   "cell_type": "code",
   "execution_count": 1,
   "id": "439c8945",
   "metadata": {},
   "outputs": [],
   "source": [
    "def menu(wine:str, entree:str, dessert:str):\n",
    "    print(f\"酒類:{wine}\")\n",
    "    print(f\"主餐:{entree}\")\n",
    "    print(f\"甜點:{dessert}\")"
   ]
  },
  {
   "cell_type": "code",
   "execution_count": 3,
   "id": "de5d41dd",
   "metadata": {},
   "outputs": [
    {
     "name": "stdout",
     "output_type": "stream",
     "text": [
      "酒類:紅酒\n",
      "主餐:牛排\n",
      "甜點:霜淇淋\n"
     ]
    }
   ],
   "source": [
    "#上方的funtion先執行過一次,這邊才能抓得到\n",
    "#引數值的呼叫,依照參數順序\n",
    "menu(\"紅酒\",\"牛排\",\"霜淇淋\")"
   ]
  },
  {
   "cell_type": "code",
   "execution_count": 7,
   "id": "0b2c4eac",
   "metadata": {},
   "outputs": [
    {
     "name": "stdout",
     "output_type": "stream",
     "text": [
      "酒類:白酒\n",
      "主餐:龍蝦\n",
      "甜點:起士蛋糕\n",
      "=============\n",
      "酒類:啤酒\n",
      "主餐:水餃\n",
      "甜點:蘇打餅乾\n"
     ]
    }
   ],
   "source": [
    "#用引數名稱的呼叫,可以不依照順序輸入\n",
    "menu(wine=\"白酒\",entree=\"龍蝦\",dessert=\"起士蛋糕\")\n",
    "print(\"=============\")\n",
    "menu(entree=\"水餃\",dessert=\"蘇打餅乾\",wine=\"啤酒\")"
   ]
  },
  {
   "cell_type": "code",
   "execution_count": null,
   "id": "d3a79d2d",
   "metadata": {},
   "outputs": [],
   "source": [
    "#混合呼叫\n",
    "#前面一定要是引數值呼叫\n",
    "#後面要引數名稱的呼叫\n",
    "#使用引數名稱呼叫後,後面全部要用引數名稱呼叫\n",
    "menu('白酒',entree=\"牛排\",dessert=\"蛋糕\")\n",
    "print(\"============\")\n",
    "menu('白酒',dessert=\"蛋糕\",entree=\"牛排\")"
   ]
  },
  {
   "cell_type": "code",
   "execution_count": 8,
   "id": "85c9bfef",
   "metadata": {},
   "outputs": [],
   "source": [
    "#有預設值的參數,一定放在最後面\n",
    "def menu(wine:str, entree:str, dessert:str='奶昔'):\n",
    "    print(f\"酒類:{wine}\")\n",
    "    print(f\"主餐:{entree}\")\n",
    "    print(f\"甜點:{dessert}\")"
   ]
  },
  {
   "cell_type": "code",
   "execution_count": 13,
   "id": "f64c168a",
   "metadata": {},
   "outputs": [
    {
     "name": "stdout",
     "output_type": "stream",
     "text": [
      "酒類:白酒\n",
      "主餐:牛排\n",
      "甜點:奶昔\n",
      "=============\n",
      "酒類:白酒\n",
      "主餐:牛排\n",
      "甜點:方糖\n"
     ]
    }
   ],
   "source": [
    "menu('白酒','牛排')\n",
    "print(\"=============\")\n",
    "menu('白酒','牛排','方糖')"
   ]
  },
  {
   "cell_type": "code",
   "execution_count": 14,
   "id": "2983bcd8",
   "metadata": {},
   "outputs": [
    {
     "data": {
      "text/plain": [
       "3.14"
      ]
     },
     "execution_count": 14,
     "metadata": {},
     "output_type": "execute_result"
    }
   ],
   "source": [
    "round(3.14159)\n",
    "round(3.14159,ndigits=2)"
   ]
  }
 ],
 "metadata": {
  "kernelspec": {
   "display_name": "base",
   "language": "python",
   "name": "python3"
  },
  "language_info": {
   "codemirror_mode": {
    "name": "ipython",
    "version": 3
   },
   "file_extension": ".py",
   "mimetype": "text/x-python",
   "name": "python",
   "nbconvert_exporter": "python",
   "pygments_lexer": "ipython3",
   "version": "3.13.2"
  }
 },
 "nbformat": 4,
 "nbformat_minor": 5
}
