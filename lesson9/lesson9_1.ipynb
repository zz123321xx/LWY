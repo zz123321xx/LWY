{
 "cells": [
  {
   "cell_type": "code",
   "execution_count": 4,
   "id": "64cfa73d",
   "metadata": {},
   "outputs": [
    {
     "name": "stdout",
     "output_type": "stream",
     "text": [
      "<class 'int'>\n"
     ]
    }
   ],
   "source": [
    "n:int = 15\n",
    "print(type(n))"
   ]
  },
  {
   "cell_type": "code",
   "execution_count": 1,
   "id": "b9a2a1b7",
   "metadata": {},
   "outputs": [
    {
     "name": "stdout",
     "output_type": "stream",
     "text": [
      "29\n",
      "==========猜數字遊戲===========\n",
      "\n",
      "格式錯誤\n",
      "應用程式中斷\n"
     ]
    }
   ],
   "source": [
    "#將play_game裡面的偵錯拉出來,放在main()裡面\n",
    "\n",
    "import random\n",
    "\n",
    "def play_game():\n",
    "    min = 1\n",
    "    max = 100\n",
    "    count = 0\n",
    "    guess_value = random.randint(min,max)\n",
    "    print(guess_value)\n",
    "    print(\"==========猜數字遊戲===========\\n\")\n",
    "    while(True):        \n",
    "        count += 1\n",
    "        keyin = int(input(f\"猜數字範圍{min}~{max}:\"))            \n",
    "        if keyin >= min and keyin <= max:\n",
    "            if(keyin == guess_value):\n",
    "                print(f\"賓果!猜對了,答案是:{guess_value}\")\n",
    "                print(f\"您猜了{count}次\")\n",
    "                break\n",
    "            elif keyin > guess_value:\n",
    "                print(\"再小一點!\")\n",
    "                max = keyin - 1\n",
    "            \n",
    "            else:\n",
    "                print(\"再大一點\")\n",
    "                min = keyin + 1\n",
    "\n",
    "            print(f\"您已經猜{count}次\")\n",
    "            \n",
    "        else:\n",
    "            print(\"請輸入提示範圍內的數字\")\n",
    "        \n",
    "        \n",
    "\n",
    "def main():\n",
    "    try:\n",
    "        play_count = 0\n",
    "        while(True):\n",
    "            play_count += 1\n",
    "            play_game()\n",
    "            is_continue = input(\"您還要繼續嗎(y,n)?\")\n",
    "            if is_continue == \"n\":\n",
    "                break\n",
    "            \n",
    "        print(f\"您共玩了{play_count}次\")\n",
    "        print(\"遊戲結束\")\n",
    "    except ValueError:\n",
    "        print(\"格式錯誤\")\n",
    "        print(\"應用程式中斷\")        \n",
    "    except Exception as e:\n",
    "        print(e)\n",
    "        print(\"應用程式中斷\")\n",
    "    \n",
    "\n",
    "\n",
    "if __name__ == \"__main__\":\n",
    "    main()"
   ]
  }
 ],
 "metadata": {
  "kernelspec": {
   "display_name": "base",
   "language": "python",
   "name": "python3"
  },
  "language_info": {
   "codemirror_mode": {
    "name": "ipython",
    "version": 3
   },
   "file_extension": ".py",
   "mimetype": "text/x-python",
   "name": "python",
   "nbconvert_exporter": "python",
   "pygments_lexer": "ipython3",
   "version": "3.13.2"
  }
 },
 "nbformat": 4,
 "nbformat_minor": 5
}
