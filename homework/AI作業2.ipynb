{
 "cells": [
  {
   "cell_type": "code",
   "execution_count": 5,
   "id": "75bfe270",
   "metadata": {},
   "outputs": [
    {
     "name": "stdout",
     "output_type": "stream",
     "text": [
      "[{'國文': 83, '姓名': '楊建安', '數學': 92, '英文': 74},\n",
      " {'國文': 68, '姓名': '羅幸娥', '數學': 96, '英文': 76},\n",
      " {'國文': 50, '姓名': '方筠紹', '數學': 71, '英文': 66}]\n"
     ]
    }
   ],
   "source": [
    "import random\n",
    "from pprint import pprint\n",
    "\n",
    "\n",
    "random.seed(4561)\n",
    "\n",
    "def sample_names_from_file(file_name: str, nums: int = 1) -> list[str]:\n",
    "    \"\"\"\n",
    "    從指定的檔案中讀取所有姓名，並隨機取出指定數量的姓名。\n",
    "\n",
    "    參數:\n",
    "        file_name (str): 檔案名稱，檔案內容為姓名，每行一個。\n",
    "        nums (int): 要隨機取出的姓名數量，預設為1。\n",
    "\n",
    "    回傳:\n",
    "        list[str]: 隨機取出的姓名列表。\n",
    "    \"\"\"\n",
    "    with open(file_name, encoding=\"utf-8\") as file:   #開啟【指定的檔案名稱】，以【utf-8】字形閱讀，暫時存在【file】變數\n",
    "        content: str = file.read() #新增一個叫做【content】的字串，資料來源為【file】，以僅讀取的【read】模式進行\n",
    "        names: list[str] = content.split() #新增一個叫做【names】的list，資料來源為【content】，【split】為依據換行符號，將一長串字串分為多行的字串\n",
    "        return random.sample(names, nums) #將生成的list，回傳到【random.sample(names, nums)】這個function裡面\n",
    "\n",
    "def generate_scores_for_names(names: list[str]) -> list[dict]:\n",
    "    \"\"\"\n",
    "    為每個姓名生成3個隨機分數。\n",
    "\n",
    "    參數:\n",
    "        names (list[str]): 姓名列表。\n",
    "\n",
    "    回傳:\n",
    "        list[dict]: 包含姓名和3個隨機分數的2維列表。\n",
    "    \"\"\"\n",
    "    result_list = []       #設立一個空白list，用來接收後續生成的字串\n",
    "    for person_name in names:    #依據【names】這個清單，依序取得各個名字為【person_name】這個變數\n",
    "        student_scores:dict = {\"姓名\":person_name} #設定一個叫【student_scores】的dict，並以【姓名】為key\n",
    "        for subject in [\"國文\", \"英文\", \"數學\"]:  #根據[]內的清單，\"國文\", \"英文\", \"數學\"，依序取得三個字串\n",
    "            student_scores[subject] = random.randint(50, 100) #在 student_scores 字典中，以subject為 key，設定隨機分數（50~100）為 value\n",
    "        result_list.append(student_scores) #將subject生成出來的value，新增到【student_scores】後面\n",
    "\n",
    "    return result_list #回傳包含所有學生姓名及分數字典的列表到result_list\n",
    "\n",
    "def main():\n",
    "    names: list[str] = sample_names_from_file(\"names.txt\", nums=3)\n",
    "    students: list[dict] = generate_scores_for_names(names)\n",
    "    pprint(students)\n",
    "\n",
    "if __name__ == \"__main__\":\n",
    "    main()"
   ]
  }
 ],
 "metadata": {
  "kernelspec": {
   "display_name": "base",
   "language": "python",
   "name": "python3"
  },
  "language_info": {
   "codemirror_mode": {
    "name": "ipython",
    "version": 3
   },
   "file_extension": ".py",
   "mimetype": "text/x-python",
   "name": "python",
   "nbconvert_exporter": "python",
   "pygments_lexer": "ipython3",
   "version": "3.13.2"
  }
 },
 "nbformat": 4,
 "nbformat_minor": 5
}
