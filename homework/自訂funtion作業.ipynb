{
 "cells": [
  {
   "cell_type": "code",
   "execution_count": 4,
   "id": "1d887d46",
   "metadata": {},
   "outputs": [
    {
     "name": "stdout",
     "output_type": "stream",
     "text": [
      "輸入格式錯誤\n",
      "應用程式結束\n"
     ]
    }
   ],
   "source": [
    "try:\n",
    "    height = float(input('請輸入身高120-250cm):'))\n",
    "    if not (120 <= height <= 250):\n",
    "        print('身高範圍輸入錯誤')\n",
    "    weight = float(input('請輸入體重30-200kg):'))\n",
    "    if not (30 <= weight <=200):\n",
    "         print('體重範圍輸入錯誤')\n",
    "    BMI = weight / ((height  / 100) **2)\n",
    "    if 120 <= height <= 250 :\n",
    "        if 30 <= weight <= 200:\n",
    "            print('你的BMI為:',round(BMI,1))\n",
    "        if BMI < 18.5:\n",
    "            x = '體重過輕'\n",
    "        elif 18.5 <= BMI < 24:\n",
    "            x = '正常範圍'\n",
    "        elif 24 <= BMI < 27:\n",
    "            x = '體重過重'\n",
    "        elif 27 <= BMI < 30:\n",
    "            x = '輕度肥胖'\n",
    "        elif 30 <= BMI < 35:\n",
    "            x = '中度肥胖'\n",
    "        elif BMI >= 35:\n",
    "            x = '重度肥胖'\n",
    "        print('您的BMI為',x)\n",
    "except:\n",
    "    print('輸入格式錯誤')\n",
    "finally:\n",
    "    print('應用程式結束')"
   ]
  },
  {
   "cell_type": "code",
   "execution_count": null,
   "id": "3a0578ef",
   "metadata": {},
   "outputs": [
    {
     "name": "stdout",
     "output_type": "stream",
     "text": [
      "你的BMI為: 20.8\n",
      "應用程式結束\n"
     ]
    }
   ],
   "source": [
    "def get_bmi() :\n",
    "    try:\n",
    "        height = float(input('請輸入身高120-250cm):'))\n",
    "        if not (120 <= height <= 250):\n",
    "            print('身高範圍輸入錯誤')\n",
    "        weight = float(input('請輸入體重30-200kg):'))\n",
    "        if not (30 <= weight <=200):\n",
    "            print('體重範圍輸入錯誤')\n",
    "        BMI = weight / ((height  / 100) **2)  \n",
    "        if 120 <= height <= 250 :\n",
    "            if 30 <= weight <= 200:\n",
    "                print('你的BMI為:',round(BMI,1))  \n",
    "    except:\n",
    "        print('輸入格式錯誤')\n",
    "    finally:\n",
    "        print('應用程式結束')\n",
    "\n",
    "\n",
    "def get_status() :   \n",
    "    if BMI < 18.5:\n",
    "        x = '體重過輕'\n",
    "    elif 18.5 <= BMI < 24:\n",
    "        x = '正常範圍'\n",
    "    elif 24 <= BMI < 27:\n",
    "        x = '體重過重'\n",
    "    elif 27 <= BMI < 30:\n",
    "        x = '輕度肥胖'\n",
    "    elif 30 <= BMI < 35:\n",
    "        x = '中度肥胖'\n",
    "    elif BMI >= 35:\n",
    "        x = '重度肥胖'\n",
    "    print('您的BMI為',x)"
   ]
  }
 ],
 "metadata": {
  "kernelspec": {
   "display_name": "base",
   "language": "python",
   "name": "python3"
  },
  "language_info": {
   "codemirror_mode": {
    "name": "ipython",
    "version": 3
   },
   "file_extension": ".py",
   "mimetype": "text/x-python",
   "name": "python",
   "nbconvert_exporter": "python",
   "pygments_lexer": "ipython3",
   "version": "3.13.2"
  }
 },
 "nbformat": 4,
 "nbformat_minor": 5
}
