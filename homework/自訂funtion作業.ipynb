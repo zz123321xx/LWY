{
 "cells": [
  {
   "cell_type": "code",
   "execution_count": null,
   "id": "3a0578ef",
   "metadata": {},
   "outputs": [
    {
     "name": "stdout",
     "output_type": "stream",
     "text": [
      "你的BMI為: 20.8\n",
      "你的BMI為 正常範圍\n",
      "應用程式結束\n"
     ]
    }
   ],
   "source": [
    "def get_bmi() :\n",
    "    height = float(input('請輸入身高120-250cm):'))\n",
    "    if not (120 <= height <= 250):\n",
    "        print('身高範圍輸入錯誤')\n",
    "    weight = float(input('請輸入體重30-200kg):'))\n",
    "    if not (30 <= weight <=200):\n",
    "        print('體重範圍輸入錯誤')\n",
    "    BMI = weight / ((height  / 100) **2)  \n",
    "    return round(BMI,1)\n",
    "\n",
    "\n",
    "def get_status(BMI) :   \n",
    "    if BMI < 18.5:\n",
    "        x = '體重過輕'\n",
    "    elif 18.5 <= BMI < 24:\n",
    "        x = '正常範圍'\n",
    "    elif 24 <= BMI < 27:\n",
    "        x = '體重過重'\n",
    "    elif 27 <= BMI < 30:\n",
    "        x = '輕度肥胖'\n",
    "    elif 30 <= BMI < 35:\n",
    "        x = '中度肥胖'\n",
    "    elif BMI >= 35:\n",
    "        x = '重度肥胖'\n",
    "    return x\n",
    "\n",
    "\n",
    "def main() :\n",
    "    try :\n",
    "        BMI = get_bmi()\n",
    "        print(\"你的BMI為:\",BMI)\n",
    "        x = get_status(BMI)\n",
    "        print(\"你的BMI為\",x)\n",
    "    except:\n",
    "        print('輸入格式錯誤')\n",
    "    finally:\n",
    "        print('應用程式結束')\n",
    "\n",
    "if __name__ == \"__main__\":\n",
    "    main()"
   ]
  },
  {
   "cell_type": "code",
   "execution_count": 17,
   "id": "4b9449e2",
   "metadata": {},
   "outputs": [
    {
     "name": "stdout",
     "output_type": "stream",
     "text": [
      "您的BMI為:20.83\n",
      "體重狀態為:正常範圍\n",
      "應用程式結束\n"
     ]
    }
   ],
   "source": [
    "def get_bmi(height, weight):\n",
    "    return weight / (height  / 100) **2\n",
    "    \n",
    "def get_status(bmi):\n",
    "    if bmi < 18.5:\n",
    "        return '體重過輕'\n",
    "    elif 18.5 <= bmi < 24:\n",
    "        return '正常範圍'\n",
    "    elif 24 <= bmi < 27:\n",
    "        return '體重過重'\n",
    "    elif 27 <= bmi < 30:\n",
    "        return '輕度肥胖'\n",
    "    elif 30 <= bmi < 35:\n",
    "        return '中度肥胖'\n",
    "    else:\n",
    "        return '重度肥胖'\n",
    "\n",
    "\n",
    "def main():\n",
    "    try:\n",
    "        height = float(input('請輸入身高120-250cm):'))\n",
    "        if not (120 <= height <= 250):\n",
    "            print('身高範圍輸入錯誤')\n",
    "            return\n",
    "\n",
    "        weight = float(input('請輸入體重30-200kg):'))\n",
    "        if not (30 <= weight <=200):\n",
    "            print('體重範圍輸入錯誤')\n",
    "            return\n",
    "\n",
    "        bmi = get_bmi(height, weight)\n",
    "        status = get_status(bmi)\n",
    "        print(f'您的BMI為:{bmi:.2f}')\n",
    "        print(f'體重狀態為:{status}')\n",
    "\n",
    "    except Exception as e:\n",
    "        print(f'輸入格式錯誤:{e}')\n",
    "    finally:\n",
    "        print('應用程式結束')\n",
    "\n",
    "\n",
    "if __name__ == \"__main__\":\n",
    "    main()"
   ]
  },
  {
   "cell_type": "code",
   "execution_count": null,
   "id": "a22d3175",
   "metadata": {},
   "outputs": [
    {
     "name": "stdout",
     "output_type": "stream",
     "text": [
      "3\n"
     ]
    }
   ],
   "source": [
    "def do_math():\n",
    "    a = int(input(\"a: \"))\n",
    "    b = int(input(\"b: \"))\n",
    "    ans = a + b\n",
    "    return ans\n",
    "\n",
    "def main():\n",
    "    ans = do_math()\n",
    "    print(ans)\n",
    "\n",
    "if __name__ == \"__main__\":\n",
    "    main()"
   ]
  }
 ],
 "metadata": {
  "kernelspec": {
   "display_name": "base",
   "language": "python",
   "name": "python3"
  },
  "language_info": {
   "codemirror_mode": {
    "name": "ipython",
    "version": 3
   },
   "file_extension": ".py",
   "mimetype": "text/x-python",
   "name": "python",
   "nbconvert_exporter": "python",
   "pygments_lexer": "ipython3",
   "version": "3.13.2"
  }
 },
 "nbformat": 4,
 "nbformat_minor": 5
}
