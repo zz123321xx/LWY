{
 "cells": [
  {
   "cell_type": "code",
   "execution_count": 75,
   "id": "6c043bed",
   "metadata": {},
   "outputs": [
    {
     "name": "stdout",
     "output_type": "stream",
     "text": [
      "因數為: 1 2 5 10 \n",
      "計算結束\n"
     ]
    }
   ],
   "source": [
    "#請輸入整數,求所有的因數:10\n",
    "try:\n",
    "    x = int(input(\"請輸入你想要找因數的數字\"))\n",
    "    y = x+1\n",
    "    print(\"因數為:\", end=\" \")\n",
    "    for a in range(1,y):\n",
    "        if x % a == 0:\n",
    "            print(a, end=\" \")\n",
    "finally:\n",
    "    print(\"\\n計算結束\")"
   ]
  },
  {
   "cell_type": "code",
   "execution_count": 55,
   "id": "5e3d594d",
   "metadata": {},
   "outputs": [
    {
     "name": "stdout",
     "output_type": "stream",
     "text": [
      "1 = 0\n",
      "2 = 0\n",
      "3 = 1\n",
      "4 = 2\n",
      "5 = 0\n",
      "6 = 4\n",
      "7 = 3\n",
      "8 = 2\n",
      "9 = 1\n",
      "10 = 0\n"
     ]
    }
   ],
   "source": [
    "#請輸入整數,求所有的因數:10\n",
    "x = int(input(\"請輸入你想要找因數的數字\"))\n",
    "y = x+1\n",
    "for a in range(1,y):\n",
    "    b = x % a\n",
    "    print(a,\"=\", x % a)\n"
   ]
  }
 ],
 "metadata": {
  "kernelspec": {
   "display_name": "base",
   "language": "python",
   "name": "python3"
  },
  "language_info": {
   "codemirror_mode": {
    "name": "ipython",
    "version": 3
   },
   "file_extension": ".py",
   "mimetype": "text/x-python",
   "name": "python",
   "nbconvert_exporter": "python",
   "pygments_lexer": "ipython3",
   "version": "3.13.2"
  }
 },
 "nbformat": 4,
 "nbformat_minor": 5
}
