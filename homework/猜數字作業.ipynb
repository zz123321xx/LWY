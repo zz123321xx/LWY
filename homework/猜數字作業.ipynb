{
 "cells": [
  {
   "cell_type": "code",
   "execution_count": null,
   "id": "85e9ba68",
   "metadata": {},
   "outputs": [
    {
     "name": "stdout",
     "output_type": "stream",
     "text": [
      "再小一點\n"
     ]
    },
    {
     "ename": "ValueError",
     "evalue": "invalid literal for int() with base 10: ''",
     "output_type": "error",
     "traceback": [
      "\u001b[31m---------------------------------------------------------------------------\u001b[39m",
      "\u001b[31mValueError\u001b[39m                                Traceback (most recent call last)",
      "\u001b[36mCell\u001b[39m\u001b[36m \u001b[39m\u001b[32mIn[6]\u001b[39m\u001b[32m, line 10\u001b[39m\n\u001b[32m      8\u001b[39m \u001b[38;5;28;01mwhile\u001b[39;00m(\u001b[38;5;28;01mTrue\u001b[39;00m):\n\u001b[32m      9\u001b[39m     \u001b[38;5;28;01mif\u001b[39;00m yn == \u001b[33m\"\u001b[39m\u001b[33my\u001b[39m\u001b[33m\"\u001b[39m \u001b[38;5;129;01mor\u001b[39;00m yn == \u001b[33m\"\u001b[39m\u001b[33mY\u001b[39m\u001b[33m\"\u001b[39m:\n\u001b[32m---> \u001b[39m\u001b[32m10\u001b[39m         player_ans = \u001b[38;5;28;43mint\u001b[39;49m\u001b[43m(\u001b[49m\u001b[38;5;28;43minput\u001b[39;49m\u001b[43m(\u001b[49m\u001b[33;43mf\u001b[39;49m\u001b[33;43m\"\u001b[39;49m\u001b[33;43m請輸入你猜的數字,數字為\u001b[39;49m\u001b[38;5;132;43;01m{\u001b[39;49;00m\u001b[38;5;28;43mmin\u001b[39;49m\u001b[38;5;132;43;01m}\u001b[39;49;00m\u001b[33;43m到\u001b[39;49m\u001b[38;5;132;43;01m{\u001b[39;49;00m\u001b[38;5;28;43mmax\u001b[39;49m\u001b[38;5;132;43;01m}\u001b[39;49;00m\u001b[33;43m\"\u001b[39;49m\u001b[43m)\u001b[49m\u001b[43m)\u001b[49m\n\u001b[32m     11\u001b[39m         \u001b[38;5;28;01mif\u001b[39;00m  player_ans == ans:\n\u001b[32m     12\u001b[39m             times += \u001b[32m1\u001b[39m\n",
      "\u001b[31mValueError\u001b[39m: invalid literal for int() with base 10: ''"
     ]
    }
   ],
   "source": [
    "import random\n",
    "max = 10\n",
    "min = 1\n",
    "games = 1\n",
    "times = 0\n",
    "ans = random.randint(min,max)\n",
    "yn = \"y\"\n",
    "while(True):\n",
    "    if yn == \"y\" or yn == \"Y\":\n",
    "        player_ans = int(input(f\"請輸入你猜的數字,數字為{min}到{max}\"))\n",
    "        if  player_ans == ans:\n",
    "            times += 1\n",
    "            print(f\"沒錯!答案是{ans}!\"\"你好蔥茗鴨!\")\n",
    "            print(f\"你本次遊戲總共猜了{times}次\")\n",
    "            while(True):\n",
    "                yn = (input(\"是否再來一局\"))\n",
    "                if yn == (\"y\") or yn == (\"Y\"):\n",
    "                    ans = random.randint(min,max)\n",
    "                    max = 10\n",
    "                    min = 1\n",
    "                    times = 0\n",
    "                    games += 1\n",
    "                    print(\"====================\")\n",
    "                    break\n",
    "                elif yn == (\"n\") or yn == (\"N\"):\n",
    "                    print(\"====================\")\n",
    "                    break\n",
    "                else:            \n",
    "                    print(\"輸入錯誤的指令，請輸入y或n\")                           \n",
    "        elif player_ans < ans:\n",
    "            print(\"再大一點\")\n",
    "            times += 1\n",
    "            min = player_ans + 1\n",
    "            continue\n",
    "        else:\n",
    "            print(\"再小一點\")\n",
    "            times += 1\n",
    "            max = player_ans - 1\n",
    "            continue\n",
    "    else:\n",
    "        print(\"遊戲結束\")\n",
    "        print(f\"你總共遊玩了{games}次!\")\n",
    "        break"
   ]
  }
 ],
 "metadata": {
  "kernelspec": {
   "display_name": "base",
   "language": "python",
   "name": "python3"
  },
  "language_info": {
   "codemirror_mode": {
    "name": "ipython",
    "version": 3
   },
   "file_extension": ".py",
   "mimetype": "text/x-python",
   "name": "python",
   "nbconvert_exporter": "python",
   "pygments_lexer": "ipython3",
   "version": "3.13.2"
  }
 },
 "nbformat": 4,
 "nbformat_minor": 5
}
