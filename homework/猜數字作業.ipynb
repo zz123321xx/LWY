{
 "cells": [
  {
   "cell_type": "code",
   "execution_count": 12,
   "id": "85e9ba68",
   "metadata": {},
   "outputs": [
    {
     "name": "stdout",
     "output_type": "stream",
     "text": [
      "==========遊戲開始==========\n",
      "格式錯誤\n",
      "沒錯!答案是5!你好蔥茗鴨!\n",
      "你本次遊戲總共猜了1次\n",
      "==========遊戲再開==========\n",
      "再大一點\n",
      "再小一點\n",
      "再小一點\n",
      "沒錯!答案是6!你好蔥茗鴨!\n",
      "你本次遊戲總共猜了4次\n",
      "==========遊戲再開==========\n",
      "再大一點\n",
      "沒錯!答案是6!你好蔥茗鴨!\n",
      "你本次遊戲總共猜了2次\n",
      "==========遊戲結束==========\n",
      "感謝你的遊玩\n",
      "你總共遊玩了3次!\n"
     ]
    }
   ],
   "source": [
    "import random\n",
    "ori_max = 10\n",
    "ori_min = 1\n",
    "max = ori_max\n",
    "min = ori_min\n",
    "games = 1\n",
    "times = 0\n",
    "ans = random.randint(min,max)\n",
    "yn = \"y\"\n",
    "print(\"==========遊戲開始==========\")\n",
    "while(True):\n",
    "    if yn == \"y\" or yn == \"Y\":\n",
    "        try:\n",
    "            player_ans = int(input(f\"請輸入你猜的數字,數字為{min}到{max}\"))\n",
    "            if  player_ans == ans:\n",
    "                times += 1\n",
    "                print(f\"沒錯!答案是{ans}!\"\"你好蔥茗鴨!\")\n",
    "                print(f\"你本次遊戲總共猜了{times}次\")\n",
    "                while(True):\n",
    "                    yn = (input(\"是否再來一局\"))\n",
    "                    if yn == (\"y\") or yn == (\"Y\"):\n",
    "                        ans = random.randint(min,max)\n",
    "                        max = ori_max\n",
    "                        min = ori_min\n",
    "                        times = 0\n",
    "                        games += 1\n",
    "                        print(\"==========遊戲再開==========\")\n",
    "                        break\n",
    "                    elif yn == (\"n\") or yn == (\"N\"):\n",
    "                        print(\"==========遊戲結束==========\")\n",
    "                        break\n",
    "                    else:            \n",
    "                        print(\"輸入錯誤的指令，請輸入y或n\")                           \n",
    "            elif player_ans < ans:\n",
    "                if player_ans < min:\n",
    "                    print(\"太小了!比你要猜的數字還小!\")\n",
    "                else:\n",
    "                    print(\"再大一點\")\n",
    "                    times += 1\n",
    "                    min = player_ans + 1\n",
    "                    continue\n",
    "            else:\n",
    "                if player_ans > max:\n",
    "                    print(\"太大了!比你要猜的數字還大!\")\n",
    "                else:\n",
    "                    print(\"再小一點\")\n",
    "                    times += 1\n",
    "                    max = player_ans - 1\n",
    "                    continue\n",
    "        except ValueError:\n",
    "            print(\"格式錯誤\")\n",
    "        except Exception as e:\n",
    "            print(e)\n",
    "    else:\n",
    "        print(\"感謝你的遊玩\")\n",
    "        print(f\"你總共遊玩了{games}次!\")\n",
    "        break"
   ]
  }
 ],
 "metadata": {
  "kernelspec": {
   "display_name": "base",
   "language": "python",
   "name": "python3"
  },
  "language_info": {
   "codemirror_mode": {
    "name": "ipython",
    "version": 3
   },
   "file_extension": ".py",
   "mimetype": "text/x-python",
   "name": "python",
   "nbconvert_exporter": "python",
   "pygments_lexer": "ipython3",
   "version": "3.13.2"
  }
 },
 "nbformat": 4,
 "nbformat_minor": 5
}
