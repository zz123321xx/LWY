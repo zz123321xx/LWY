{
 "cells": [
  {
   "cell_type": "code",
   "execution_count": null,
   "id": "85e9ba68",
   "metadata": {},
   "outputs": [
    {
     "name": "stdout",
     "output_type": "stream",
     "text": [
      "再大一點\n",
      "再大一點\n",
      "再大一點\n",
      "沒錯!答案是4!你好蔥茗鴨!\n",
      "你猜了4次\n",
      "再大一點\n",
      "再大一點\n",
      "再大一點\n",
      "再大一點\n",
      "再大一點\n",
      "再大一點\n",
      "沒錯!答案是3!你好蔥茗鴨!\n",
      "你猜了7次\n",
      "再大一點\n",
      "再大一點\n",
      "再大一點\n",
      "再大一點\n",
      "再大一點\n",
      "再大一點\n",
      "再大一點\n",
      "再大一點\n",
      "再大一點\n",
      "再大一點\n",
      "再大一點\n",
      "再大一點\n",
      "再大一點\n",
      "沒錯!答案是5!你好蔥茗鴨!\n",
      "你猜了14次\n",
      "遊戲結束\n",
      "你總共遊玩了3次!\n"
     ]
    }
   ],
   "source": [
    "import random\n",
    "max = 5\n",
    "min = 1\n",
    "games = 1\n",
    "times = 0\n",
    "ans = random.randint(min,max)\n",
    "while(True):\n",
    "    player_ans = int(input(\"請輸入你猜的數字\"))\n",
    "    if  player_ans == ans:\n",
    "        times += 1\n",
    "        print(f\"沒錯!答案是{ans}!\"\"你好蔥茗鴨!\")\n",
    "        print(f\"你本次總共猜了{times}次\")\n",
    "        yn = (input(\"是否再來一局\"))\n",
    "        if yn == (\"y\"):\n",
    "            ans = random.randint(min,max)\n",
    "            times = 0\n",
    "            games += 1\n",
    "            continue\n",
    "        else:\n",
    "            print(\"遊戲結束\")\n",
    "            print(f\"你總共遊玩了{games}次!\")\n",
    "            break\n",
    "                \n",
    "    elif player_ans < ans:\n",
    "        print(\"再大一點\")\n",
    "        times += 1\n",
    "        continue\n",
    "    else:\n",
    "        print(\"再小一點\")\n",
    "        times += 1\n",
    "        continue"
   ]
  }
 ],
 "metadata": {
  "kernelspec": {
   "display_name": "base",
   "language": "python",
   "name": "python3"
  },
  "language_info": {
   "codemirror_mode": {
    "name": "ipython",
    "version": 3
   },
   "file_extension": ".py",
   "mimetype": "text/x-python",
   "name": "python",
   "nbconvert_exporter": "python",
   "pygments_lexer": "ipython3",
   "version": "3.13.2"
  }
 },
 "nbformat": 4,
 "nbformat_minor": 5
}
