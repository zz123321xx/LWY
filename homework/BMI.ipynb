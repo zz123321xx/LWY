{
 "cells": [
  {
   "cell_type": "code",
   "execution_count": null,
   "id": "19b050ce",
   "metadata": {},
   "outputs": [
    {
     "name": "stdout",
     "output_type": "stream",
     "text": [
      "低於身高最低範圍120\n",
      "結束應用程式\n"
     ]
    }
   ],
   "source": [
    "try:\n",
    "    Height = int(input(\"請輸入你的身高為多少公分\"))\n",
    "    if Height <= 250 and Height >= 120:\n",
    "        Weight = int(input(\"請出入你的體重為多少公斤\"))\n",
    "        if Weight <=200 and Weight>= 30:\n",
    "            Height2 = Height/100\n",
    "            Height3 = round(Height2,ndigits = 2)\n",
    "            Height4 = Height3 * Height3\n",
    "            BMI = Weight / Height4\n",
    "            BMI = round (BMI,1)\n",
    "            \n",
    "            print(\"你的BMI指數為:\",BMI)\n",
    "        else:\n",
    "            raise Exception (\"超出體重範圍30至200\")\n",
    "    else:\n",
    "        raise Exception (\"超出身高範圍120至250\")\n",
    "\n",
    "except Exception as e :\n",
    "    print(e)\n",
    "finally:\n",
    "    print(\"結束應用程式\")\n",
    "\n",
    "    "
   ]
  },
  {
   "cell_type": "code",
   "execution_count": 46,
   "id": "955c8064",
   "metadata": {},
   "outputs": [
    {
     "name": "stdout",
     "output_type": "stream",
     "text": [
      "高於體重最重範圍200\n",
      "結束應用程式\n"
     ]
    }
   ],
   "source": [
    "try:\n",
    "    Height = int(input(\"請輸入你的身高為多少公分\"))\n",
    "    if Height > 250 :\n",
    "        raise Exception (\"高於身高最高範圍250\")    \n",
    "    elif Height < 120 :\n",
    "        raise Exception (\"低於身高最低範圍120\")\n",
    "           \n",
    "    else:\n",
    "        Weight = int(input(\"請輸入你的體重為多少公斤\"))\n",
    "        if Weight > 200 :\n",
    "            raise Exception (\"高於體重最重範圍200\")    \n",
    "        elif Weight < 30 :\n",
    "            raise Exception (\"低於體重最輕範圍30\")\n",
    "        else:\n",
    "            Height2 = Height/100\n",
    "            Height3 = round(Height2,ndigits = 2)\n",
    "            Height4 = Height3 * Height3\n",
    "            BMI = Weight / Height4\n",
    "            BMI = round (BMI,1)\n",
    "            print(\"您的身高為:\",Height,\"公分\")\n",
    "            print(\"您的體重為:\",Weight,\"公斤\")\n",
    "            print(\"您的BMI指數為:\",BMI)\n",
    "\n",
    "except ValueError as e :\n",
    "    print(\"輸入數字以外的資料\",e)\n",
    "except Exception as e :\n",
    "    print(e)\n",
    "finally:\n",
    "    print(\"結束應用程式\")\n",
    "\n",
    "    "
   ]
  },
  {
   "cell_type": "code",
   "execution_count": 4,
   "id": "7a89c443",
   "metadata": {},
   "outputs": [
    {
     "name": "stdout",
     "output_type": "stream",
     "text": [
      "您的身高為: 167 公分\n",
      "您的體重為: 77 公斤\n",
      "您的BMI指數為: 27.6\n",
      "您的BMI狀態為: 輕度肥胖\n",
      "結束應用程式\n"
     ]
    }
   ],
   "source": [
    "try:\n",
    "    Height = int(input(\"請輸入你的身高為多少公分\"))\n",
    "    if Height > 250 :\n",
    "        raise Exception (\"高於身高最高範圍250\")    \n",
    "    elif Height < 120 :\n",
    "        raise Exception (\"低於身高最低範圍120\")\n",
    "           \n",
    "    else:\n",
    "        Weight = int(input(\"請輸入你的體重為多少公斤\"))\n",
    "        if Weight > 200 :\n",
    "            raise Exception (\"高於體重最重範圍200\")    \n",
    "        elif Weight < 30 :\n",
    "            raise Exception (\"低於體重最輕範圍30\")\n",
    "        else:\n",
    "            BMI = Weight / (Height/100) ** 2\n",
    "            BMI = round (BMI,1)\n",
    "            if BMI < 18.5:\n",
    "                state = \"體重過輕\" \n",
    "            elif 18.5 <=BMI < 24:\n",
    "                state = \"正常\"\n",
    "            elif 24 <=BMI < 27:\n",
    "                state = \"過重\"\n",
    "            elif 27 <=BMI < 30:\n",
    "                state = \"輕度肥胖\"\n",
    "            elif 30 <=BMI < 35:\n",
    "                state = \"中度肥胖\"\n",
    "            else:\n",
    "                state = \"重度肥胖\"\n",
    "            print(\"您的身高為:\",Height,\"公分\")\n",
    "            print(\"您的體重為:\",Weight,\"公斤\")\n",
    "            print(\"您的BMI指數為:\",BMI)\n",
    "            print(\"您的BMI狀態為:\",state)\n",
    "\n",
    "except ValueError as e :\n",
    "    print(\"輸入數字以外的資料\",e)\n",
    "except Exception as e :\n",
    "    print(e)\n",
    "finally:\n",
    "    print(\"結束應用程式\")\n",
    "\n",
    "    "
   ]
  }
 ],
 "metadata": {
  "kernelspec": {
   "display_name": "base",
   "language": "python",
   "name": "python3"
  },
  "language_info": {
   "codemirror_mode": {
    "name": "ipython",
    "version": 3
   },
   "file_extension": ".py",
   "mimetype": "text/x-python",
   "name": "python",
   "nbconvert_exporter": "python",
   "pygments_lexer": "ipython3",
   "version": "3.13.2"
  }
 },
 "nbformat": 4,
 "nbformat_minor": 5
}
