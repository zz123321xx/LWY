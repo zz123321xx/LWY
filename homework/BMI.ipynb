{
 "cells": [
  {
   "cell_type": "code",
   "execution_count": 8,
   "id": "19b050ce",
   "metadata": {},
   "outputs": [
    {
     "name": "stdout",
     "output_type": "stream",
     "text": [
      "超出體重範圍30至200\n",
      "結束應用程式\n"
     ]
    }
   ],
   "source": [
    "try:\n",
    "    Height = int(input(\"請輸入你的身高為多少公分\"))\n",
    "    if Height <= 250 and Height >= 120:\n",
    "        Weight = int(input(\"請出入你的體重為多少公斤\"))\n",
    "        if Weight <=200 and Weight>= 30:\n",
    "            print(Height,Weight)\n",
    "        else:\n",
    "            raise Exception (\"超出體重範圍30至200\")\n",
    "    else:\n",
    "        raise Exception (\"超出身高範圍120至250\")\n",
    "\n",
    "except Exception as e :\n",
    "    print(e)\n",
    "finally:\n",
    "    print(\"結束應用程式\")\n",
    "\n",
    "    "
   ]
  }
 ],
 "metadata": {
  "kernelspec": {
   "display_name": "base",
   "language": "python",
   "name": "python3"
  },
  "language_info": {
   "codemirror_mode": {
    "name": "ipython",
    "version": 3
   },
   "file_extension": ".py",
   "mimetype": "text/x-python",
   "name": "python",
   "nbconvert_exporter": "python",
   "pygments_lexer": "ipython3",
   "version": "3.13.2"
  }
 },
 "nbformat": 4,
 "nbformat_minor": 5
}
