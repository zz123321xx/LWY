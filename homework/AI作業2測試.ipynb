{
 "cells": [
  {
   "cell_type": "code",
   "execution_count": null,
   "id": "75bfe270",
   "metadata": {},
   "outputs": [
    {
     "name": "stdout",
     "output_type": "stream",
     "text": [
      "\n",
      "=== 學生成績管理系統 ===\n",
      "\n",
      "學生成績表:\n",
      "姓名          國文      英文      數學      平均成績\n",
      "陳倩妮         70      93      98      87.0\n",
      "王人仰         93      65      86      81.3\n",
      "吳麗卿         78      76      54      69.3\n",
      "\n",
      "成績分析:\n",
      "- 全班平均成績: 79.2 分\n",
      "- 最高分學生: 陳倩妮 (87.0 分)\n",
      "- 最低分學生: 吳麗卿 (69.3 分)\n"
     ]
    }
   ],
   "source": [
    "```\n",
    "有一個names.txt,讀取names.txt，並隨機取出3個名字\n",
    "每個名字都有三個科目，分別為'國文','數學','英文'\n",
    "為每個科目生成隨機分數,分數落於50至100之間\n",
    "要做成績分析，分析每個單獨名字的平均分為幾分\n",
    "還要做全部名字一起的平均成績,從中選出平均分最低和最高的名字，並顯示的平均分\n",
    "輸出結果範例如下\n",
    "\n",
    "\n",
    "=== 學生成績管理系統 ===\n",
    "\n",
    "學生成績表:\n",
    "姓名      國文    英文    數學    平均成績  \n",
    "賴佳雯     62      75      76      71.0    \n",
    "陳家維     89      60      90      79.7    \n",
    "翁均安     62      94      76      77.3    \n",
    "\n",
    "成績分析:\n",
    "- 全班平均成績: 76.0 分\n",
    "- 最高分學生: 陳家維 (79.7 分)\n",
    "- 最低分學生: 賴佳雯 (71.0 分)\n",
    "```\n"
   ]
  },
  {
   "cell_type": "code",
   "execution_count": 4,
   "id": "d7894773",
   "metadata": {},
   "outputs": [
    {
     "name": "stdout",
     "output_type": "stream",
     "text": [
      "\n",
      "=== 學生成績管理系統 ===\n",
      "\n",
      "學生成績表:\n",
      "姓名          國文      英文      數學      平均成績\n",
      "林志喜         68      56      71      65.0\n",
      "劉耿琦         79      63      71      71.0\n",
      "鄭琇亞         65      82      51      66.0\n",
      "\n",
      "成績分析:\n",
      "- 全班平均成績: 67.3 分\n",
      "- 最高分學生: 劉耿琦 (71.0 分)\n",
      "- 最低分學生: 林志喜 (65.0 分)\n"
     ]
    }
   ],
   "source": [
    "import random\n",
    "\n",
    "# 讀取 names.txt 並隨機取出3個名字\n",
    "with open('names.txt', 'r', encoding='utf-8') as f:\n",
    "    all_names = [line.strip() for line in f if line.strip()]\n",
    "names = random.sample(all_names, 3)\n",
    "\n",
    "subjects = ['國文', '英文', '數學']\n",
    "students = []\n",
    "\n",
    "# 為每個學生生成分數\n",
    "for name in names:\n",
    "    scores = {subject: random.randint(50, 100) for subject in subjects}\n",
    "    avg = round(sum(scores.values()) / len(subjects), 1)\n",
    "    students.append({'姓名': name, **scores, '平均成績': avg})\n",
    "\n",
    "# 計算全班平均\n",
    "class_avg = round(sum(s['平均成績'] for s in students) / len(students), 1)\n",
    "\n",
    "# 找最高、最低分學生\n",
    "max_student = max(students, key=lambda s: s['平均成績'])\n",
    "min_student = min(students, key=lambda s: s['平均成績'])\n",
    "\n",
    "# 輸出結果\n",
    "print('\\n=== 學生成績管理系統 ===\\n')\n",
    "print('學生成績表:')\n",
    "header = f\"{'姓名':<8}{'國文':>6}{'英文':>8}{'數學':>8}{'平均成績':>10}\"\n",
    "print(header)\n",
    "for s in students:\n",
    "    print(f\"{s['姓名']:<8}{s['國文']:>6}{s['英文']:>8}{s['數學']:>8}{s['平均成績']:>10}\")\n",
    "\n",
    "print('\\n成績分析:')\n",
    "print(f\"- 全班平均成績: {class_avg} 分\")\n",
    "print(f\"- 最高分學生: {max_student['姓名']} ({max_student['平均成績']} 分)\")\n",
    "print(f\"- 最低分學生: {min_student['姓名']} ({min_student['平均成績']} 分)\")\n"
   ]
  }
 ],
 "metadata": {
  "kernelspec": {
   "display_name": "base",
   "language": "python",
   "name": "python3"
  },
  "language_info": {
   "codemirror_mode": {
    "name": "ipython",
    "version": 3
   },
   "file_extension": ".py",
   "mimetype": "text/x-python",
   "name": "python",
   "nbconvert_exporter": "python",
   "pygments_lexer": "ipython3",
   "version": "3.13.2"
  }
 },
 "nbformat": 4,
 "nbformat_minor": 5
}
