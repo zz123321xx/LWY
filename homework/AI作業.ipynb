{
 "cells": [
  {
   "cell_type": "code",
   "execution_count": null,
   "id": "9e742603",
   "metadata": {},
   "outputs": [
    {
     "name": "stdout",
     "output_type": "stream",
     "text": [
      "[['姜琬婷', 92, 61, 96], ['吳昕婷', 53, 73, 59], ['陳冠竹', 58, 62, 91]]\n"
     ]
    }
   ],
   "source": [
    "'''\n",
    "有一個names.txt\n",
    "讀取names.txt\n",
    "請隨機取出3個名字\n",
    "建立2維的list,結構如下\n",
    "[['陳怡伶',67,92,97],\n",
    "['馮芳如',98,86,75],\n",
    "['蒙淑惠',76,65,59]]\n",
    "每個姓名有3個分數,分數是(50~100)的隨機數\n",
    "'''\n",
    "# 匯入 random 模組，用於產生隨機數和隨機抽樣\n",
    "import random\n",
    "\n",
    "# 開啟 names.txt 檔案，讀取所有名字，每一行一個名字\n",
    "with open('names.txt', 'r', encoding='utf-8') as f:\n",
    "    names = f.read().splitlines()\n",
    "\n",
    "# 從 names 中隨機取出 3 個名字，不重複\n",
    "random_names = random.sample(names, 3)\n",
    "\n",
    "scores = []    # scores: 用來存放最終的二維 list，每個元素是 [名字, 分數1, 分數2, 分數3]\n",
    "for name in random_names:    # 對每個名字，產生 3 個 50~100 的隨機分數，組成一個 list\n",
    "    score = [name] + [random.randint(50, 100) for _ in range(3)]   # score: [名字, 分數1, 分數2, 分數3]\n",
    "    scores.append(score)   # 將這個 list 加入 scores\n",
    "\n",
    "print(scores)    # 輸出結果"
   ]
  }
 ],
 "metadata": {
  "kernelspec": {
   "display_name": "base",
   "language": "python",
   "name": "python3"
  },
  "language_info": {
   "codemirror_mode": {
    "name": "ipython",
    "version": 3
   },
   "file_extension": ".py",
   "mimetype": "text/x-python",
   "name": "python",
   "nbconvert_exporter": "python",
   "pygments_lexer": "ipython3",
   "version": "3.13.2"
  }
 },
 "nbformat": 4,
 "nbformat_minor": 5
}
