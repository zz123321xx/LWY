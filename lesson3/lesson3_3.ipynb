{
 "cells": [
  {
   "cell_type": "code",
   "execution_count": 2,
   "id": "08e1ea6e",
   "metadata": {},
   "outputs": [
    {
     "name": "stdout",
     "output_type": "stream",
     "text": [
      "梯形面積: 15.0\n"
     ]
    }
   ],
   "source": [
    "# 上寬(公分):5\n",
    "# 下寬(公分):10\n",
    "# 高度(公分):2\n",
    "\n",
    "top = 5\n",
    "bottom = 10\n",
    "height = 2\n",
    "\n",
    "area = (top + bottom) * height / 2\n",
    "print(\"梯形面積:\",area)"
   ]
  },
  {
   "cell_type": "code",
   "execution_count": 8,
   "id": "5cad2488",
   "metadata": {},
   "outputs": [
    {
     "data": {
      "text/plain": [
       "3.14"
      ]
     },
     "execution_count": 8,
     "metadata": {},
     "output_type": "execute_result"
    }
   ],
   "source": [
    "A=3.14159265358\n",
    "round(A,ndigits=2)"
   ]
  },
  {
   "cell_type": "code",
   "execution_count": null,
   "id": "d8db1435",
   "metadata": {},
   "outputs": [
    {
     "data": {
      "text/plain": [
       "1.0"
      ]
     },
     "execution_count": 1,
     "metadata": {},
     "output_type": "execute_result"
    }
   ],
   "source": [
    "A=float(input(\"請輸入形狀的上寬\"))\n",
    "B=float(input(\"請輸入形狀的下寬\"))\n",
    "C=float(input(\"請輸入形狀的高\"))\n",
    "\n",
    "Ans=(A+B)*C / 2\n",
    "\n",
    "Ans"
   ]
  }
 ],
 "metadata": {
  "kernelspec": {
   "display_name": "Python 3",
   "language": "python",
   "name": "python3"
  },
  "language_info": {
   "codemirror_mode": {
    "name": "ipython",
    "version": 3
   },
   "file_extension": ".py",
   "mimetype": "text/x-python",
   "name": "python",
   "nbconvert_exporter": "python",
   "pygments_lexer": "ipython3",
   "version": "3.13.2"
  }
 },
 "nbformat": 4,
 "nbformat_minor": 5
}
