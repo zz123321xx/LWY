{
 "cells": [
  {
   "cell_type": "code",
   "execution_count": 2,
   "id": "ad4966fb",
   "metadata": {},
   "outputs": [
    {
     "data": {
      "text/plain": [
       "0    3000\n",
       "1    5000\n",
       "2    8000\n",
       "dtype: int64"
      ]
     },
     "execution_count": 2,
     "metadata": {},
     "output_type": "execute_result"
    }
   ],
   "source": [
    "#1維list\n",
    "import pandas as pd\n",
    "sdata = [3000, 5000, 8000]\n",
    "\n",
    "s1 = pd.Series(sdata)\n",
    "s1"
   ]
  },
  {
   "cell_type": "code",
   "execution_count": 3,
   "id": "6cb6c034",
   "metadata": {},
   "outputs": [
    {
     "data": {
      "text/plain": [
       "Index(['台北', '桃園', '台中', '高雄'], dtype='object')"
      ]
     },
     "execution_count": 3,
     "metadata": {},
     "output_type": "execute_result"
    }
   ],
   "source": [
    "#1維dict\n",
    "sdata = {'台北':35000, '桃園':71000, '台中':16000, '高雄':5000}\n",
    "s2 = pd.Series(sdata)\n",
    "s2.index"
   ]
  },
  {
   "cell_type": "code",
   "execution_count": null,
   "id": "6ee35e26",
   "metadata": {},
   "outputs": [],
   "source": [
    "#2維dict\n",
    "sdata = {\n",
    "    '台北': [35000, 36000, 37000],\n",
    "    '桃園': [71000, 72000, 73000],\n",
    "    '台中': [16000, 17000, 18000],\n",
    "    '高雄': [5000, 6000, 7000]\n",
    "}\n",
    "df1 = pd.DataFrame(sdata)\n",
    "df1.index\n",
    "df1.columns"
   ]
  },
  {
   "cell_type": "code",
   "execution_count": null,
   "id": "3affc40d",
   "metadata": {},
   "outputs": [],
   "source": [
    "#2維dict\n",
    "sdata = [\n",
    "    {'城市': '台北', '人口': 35000, '面積': 100},\n",
    "    {'城市': '桃園', '人口': 71000, '面積': 200},\n",
    "    {'城市': '台中', '人口': 16000, '面積': 150},\n",
    "    {'城市': '高雄', '人口': 5000, '面積': 80}\n",
    "]\n",
    "df2 = pd.DataFrame(sdata)\n",
    "df2"
   ]
  },
  {
   "cell_type": "code",
   "execution_count": null,
   "id": "37b95293",
   "metadata": {},
   "outputs": [],
   "source": [
    "import pandas as pd\n",
    "\n",
    "df3 = pd.read_csv('交通流量.csv', encoding='utf-8')\n",
    "df3"
   ]
  },
  {
   "cell_type": "code",
   "execution_count": null,
   "id": "1e0e37a7",
   "metadata": {},
   "outputs": [],
   "source": [
    "n_array = df3.values  #比較笨的DataFrame轉list\n",
    "list1 = n_array.tolist()\n",
    "list1[:5]"
   ]
  },
  {
   "cell_type": "code",
   "execution_count": null,
   "id": "6ecd01ce",
   "metadata": {},
   "outputs": [],
   "source": [
    "df3.values.tolist()[:5]  # 顯示前5行數據"
   ]
  },
  {
   "cell_type": "code",
   "execution_count": null,
   "id": "685c8526",
   "metadata": {},
   "outputs": [],
   "source": [
    "df3.to_numpy().tolist()   #聰明的DataFrame轉list"
   ]
  }
 ],
 "metadata": {
  "kernelspec": {
   "display_name": "LWY",
   "language": "python",
   "name": "python3"
  },
  "language_info": {
   "codemirror_mode": {
    "name": "ipython",
    "version": 3
   },
   "file_extension": ".py",
   "mimetype": "text/x-python",
   "name": "python",
   "nbconvert_exporter": "python",
   "pygments_lexer": "ipython3",
   "version": "3.12.11"
  }
 },
 "nbformat": 4,
 "nbformat_minor": 5
}
