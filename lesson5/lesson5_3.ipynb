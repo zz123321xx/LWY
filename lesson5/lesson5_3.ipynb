{
 "cells": [
  {
   "cell_type": "code",
   "execution_count": 12,
   "id": "eb207dee",
   "metadata": {},
   "outputs": [
    {
     "name": "stdout",
     "output_type": "stream",
     "text": [
      "不符合資格\n"
     ]
    }
   ],
   "source": [
    "scores =int(input(\"輸入數字\"))\n",
    "\n",
    "if scores >= 60:\n",
    "    if scores <=80:\n",
    "        print(scores)\n",
    "    else:\n",
    "        print('不符合資格')\n",
    "else:\n",
    "    print('不符合資格')"
   ]
  },
  {
   "cell_type": "code",
   "execution_count": 16,
   "id": "1ac5c5e4",
   "metadata": {},
   "outputs": [
    {
     "name": "stdout",
     "output_type": "stream",
     "text": [
      "我要的數字\n"
     ]
    }
   ],
   "source": [
    "scores = 80\n",
    "if scores >= 60 and scores <=80:\n",
    "    print(\"我要的數字\")"
   ]
  }
 ],
 "metadata": {
  "kernelspec": {
   "display_name": "base",
   "language": "python",
   "name": "python3"
  },
  "language_info": {
   "codemirror_mode": {
    "name": "ipython",
    "version": 3
   },
   "file_extension": ".py",
   "mimetype": "text/x-python",
   "name": "python",
   "nbconvert_exporter": "python",
   "pygments_lexer": "ipython3",
   "version": "3.13.2"
  }
 },
 "nbformat": 4,
 "nbformat_minor": 5
}
