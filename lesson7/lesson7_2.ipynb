{
 "cells": [
  {
   "cell_type": "code",
   "execution_count": 2,
   "id": "b302976e",
   "metadata": {},
   "outputs": [
    {
     "name": "stdout",
     "output_type": "stream",
     "text": [
      "==========猜數字遊戲===========\n",
      "\n",
      "再大一點\n",
      "您已經猜1次\n",
      "再小一點!\n",
      "您已經猜2次\n",
      "再小一點!\n",
      "您已經猜3次\n",
      "再大一點\n",
      "您已經猜4次\n",
      "再大一點\n",
      "您已經猜5次\n",
      "賓果!猜對了,答案是:61\n",
      "您猜了6次\n",
      "遊戲結束\n"
     ]
    }
   ],
   "source": [
    "import random\n",
    "\n",
    "min = 1\n",
    "max = 100\n",
    "count = 0\n",
    "guess_value = random.randint(min,max)\n",
    "print(\"==========猜數字遊戲===========\\n\")\n",
    "while(True):\n",
    "    keyin = int(input(f\"猜數字範圍{min}~{max}\"))\n",
    "    count += 1\n",
    "    if keyin >= min and keyin <= max:\n",
    "        if(keyin == guess_value):\n",
    "            print(f\"賓果!猜對了,答案是:{guess_value}\")\n",
    "            print(f\"您猜了{count}次\")\n",
    "            break\n",
    "        elif keyin > guess_value:\n",
    "            print(\"再小一點!\")\n",
    "            max = keyin - 1\n",
    "        \n",
    "        else:\n",
    "            print(\"再大一點\")\n",
    "            min = keyin + 1\n",
    "\n",
    "        print(f\"您已經猜{count}次\")\n",
    "        \n",
    "    else:\n",
    "        print(\"請輸入提示範圍內的數字\")\n",
    "\n",
    "print(\"遊戲結束\")"
   ]
  }
 ],
 "metadata": {
  "kernelspec": {
   "display_name": "base",
   "language": "python",
   "name": "python3"
  },
  "language_info": {
   "codemirror_mode": {
    "name": "ipython",
    "version": 3
   },
   "file_extension": ".py",
   "mimetype": "text/x-python",
   "name": "python",
   "nbconvert_exporter": "python",
   "pygments_lexer": "ipython3",
   "version": "3.13.2"
  }
 },
 "nbformat": 4,
 "nbformat_minor": 5
}
