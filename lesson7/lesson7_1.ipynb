{
 "cells": [
  {
   "cell_type": "code",
   "execution_count": 4,
   "id": "418694e2",
   "metadata": {},
   "outputs": [
    {
     "name": "stdout",
     "output_type": "stream",
     "text": [
      "Hahaha\n",
      "Yes\n",
      "程式結束\n"
     ]
    }
   ],
   "source": [
    "#設定break條件來停止while\n",
    "\n",
    "while(True):\n",
    "    stuff = input(\"請輸入小寫英文字,會自動轉成大寫[按下q會離開]:\")\n",
    "    if stuff == 'q' or stuff == 'Q':\n",
    "        break\n",
    "    print(stuff.capitalize())\n",
    "print(\"程式結束\")"
   ]
  },
  {
   "cell_type": "code",
   "execution_count": 1,
   "id": "59fe7e82",
   "metadata": {},
   "outputs": [
    {
     "name": "stdout",
     "output_type": "stream",
     "text": [
      "輸入的次數是0,所有輸入的正偶數的加總是:0\n"
     ]
    }
   ],
   "source": [
    "#break, contiune\n",
    "#請設計一個程式，讓使用者輸入數值，只有加總正偶數值，不加總正奇數值，如果輸入負數，結束程式。\n",
    "#此程式針對「偶數進行加總」,「記錄你輸入幾次數字」,「有設定break條件」\n",
    "num = 0\n",
    "sum = 0\n",
    "while(True):    \n",
    "    input_value = int(input(f\"請輸入第{num+1}個數值:\"))\n",
    "    if input_value < 0:\n",
    "        break\n",
    "    num += 1\n",
    "    if input_value % 2 == 1:\n",
    "        continue\n",
    "    sum += input_value\n",
    "\n",
    "print(f\"輸入的次數是{num},所有輸入的正偶數的加總是:{sum}\")"
   ]
  },
  {
   "cell_type": "code",
   "execution_count": 21,
   "id": "a60111c2",
   "metadata": {},
   "outputs": [
    {
     "name": "stdout",
     "output_type": "stream",
     "text": [
      "再大一點\n",
      "再大一點\n",
      "你猜對了!答案是3!你好蔥茗鴨!\n"
     ]
    }
   ],
   "source": [
    "import random\n",
    "\n",
    "ans = random.randint(1,10)\n",
    "while(True):\n",
    "    player_ans = int(input(\"請輸入你猜的數字\"))\n",
    "    if  player_ans > ans:\n",
    "        print(\"再小一點\")\n",
    "        continue\n",
    "    elif player_ans < ans:\n",
    "        print(\"再大一點\")\n",
    "        continue\n",
    "    else:\n",
    "        print(f\"你猜對了!答案是{ans}!\"\"你好蔥茗鴨!\")\n",
    "        break"
   ]
  }
 ],
 "metadata": {
  "kernelspec": {
   "display_name": "base",
   "language": "python",
   "name": "python3"
  },
  "language_info": {
   "codemirror_mode": {
    "name": "ipython",
    "version": 3
   },
   "file_extension": ".py",
   "mimetype": "text/x-python",
   "name": "python",
   "nbconvert_exporter": "python",
   "pygments_lexer": "ipython3",
   "version": "3.13.2"
  }
 },
 "nbformat": 4,
 "nbformat_minor": 5
}
