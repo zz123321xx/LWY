{
 "cells": [
  {
   "cell_type": "code",
   "execution_count": 1,
   "id": "14ac87d5",
   "metadata": {},
   "outputs": [
    {
     "data": {
      "text/plain": [
       "array([ 0, 10, 20, 30, 40, 50, 60, 70, 80, 90])"
      ]
     },
     "execution_count": 1,
     "metadata": {},
     "output_type": "execute_result"
    }
   ],
   "source": [
    "import numpy as np\n",
    "arr = np.arange(10) * 10\n",
    "arr"
   ]
  },
  {
   "cell_type": "code",
   "execution_count": 25,
   "id": "531bbbd5",
   "metadata": {},
   "outputs": [
    {
     "data": {
      "text/plain": [
       "array([30, 40, 50, 60, 70, 80, 90])"
      ]
     },
     "execution_count": 25,
     "metadata": {},
     "output_type": "execute_result"
    }
   ],
   "source": [
    "#索引\n",
    "arr[1]\n",
    "\n",
    "#slice\n",
    "arr[:5] #前5個\n",
    "arr[3:] #最後5個"
   ]
  },
  {
   "cell_type": "code",
   "execution_count": 6,
   "id": "eb134c8a",
   "metadata": {},
   "outputs": [
    {
     "data": {
      "text/plain": [
       "array([[ 73,  71,  69,  59,  69],\n",
       "       [ 98,  77,  61,  92,  88],\n",
       "       [ 80,  84,  83,  73,  63],\n",
       "       [ 53,  63,  74,  67,  57],\n",
       "       [ 80,  61,  98,  76,  68],\n",
       "       [ 64,  92, 100, 100,  63],\n",
       "       [ 89,  61,  64,  74,  87],\n",
       "       [ 98,  69,  66,  70,  90],\n",
       "       [ 56,  54,  97,  63,  88],\n",
       "       [ 95,  63,  54,  73,  53],\n",
       "       [ 89,  60,  69,  51,  83],\n",
       "       [ 78,  81,  85,  99,  82],\n",
       "       [ 92,  79,  91,  71,  73],\n",
       "       [ 60,  68,  88,  84,  60],\n",
       "       [ 70,  74,  99,  67,  69],\n",
       "       [ 74,  91,  79,  86,  67],\n",
       "       [ 60,  65,  55,  72,  73],\n",
       "       [ 99,  97,  80,  83,  82],\n",
       "       [ 57,  95,  84,  73, 100],\n",
       "       [ 94,  82,  55,  70,  99],\n",
       "       [ 68,  69,  58,  74,  62],\n",
       "       [ 64,  83,  82,  60,  81],\n",
       "       [ 86,  86,  68,  86,  92],\n",
       "       [ 74,  92,  77,  81,  64],\n",
       "       [ 96,  89,  50,  66,  53],\n",
       "       [ 75,  66,  53,  72,  85],\n",
       "       [ 76,  57,  91,  94,  75],\n",
       "       [ 98,  98,  58,  80,  81],\n",
       "       [ 93,  66,  79,  87,  80],\n",
       "       [ 75,  63,  72,  68,  69],\n",
       "       [ 88,  74,  71,  99,  85],\n",
       "       [ 58,  89,  59,  70,  88],\n",
       "       [ 99,  73,  74,  90,  62],\n",
       "       [ 60,  82,  74,  69,  51],\n",
       "       [ 79,  54,  52,  85,  69],\n",
       "       [ 96,  65,  68,  88,  79],\n",
       "       [ 80,  59,  71,  96,  77],\n",
       "       [ 51,  91,  82,  77,  72],\n",
       "       [ 94,  89,  96,  63,  77],\n",
       "       [ 59,  85,  71,  57,  98],\n",
       "       [ 94,  67,  64,  89,  91],\n",
       "       [ 92,  79,  71,  89,  90],\n",
       "       [ 78,  70,  71,  90,  66],\n",
       "       [ 75,  50,  94,  99,  52],\n",
       "       [ 78,  54,  80,  64,  83],\n",
       "       [ 50,  79,  87,  89,  84],\n",
       "       [ 91,  69,  82,  66,  69],\n",
       "       [ 53,  97,  82,  83,  83],\n",
       "       [ 94,  57,  71, 100,  68],\n",
       "       [ 66,  70,  66,  91,  53]], dtype=int32)"
      ]
     },
     "execution_count": 6,
     "metadata": {},
     "output_type": "execute_result"
    }
   ],
   "source": [
    "scores = np.random.randint(50,101, size=(50, 5))\n",
    "scores"
   ]
  },
  {
   "cell_type": "code",
   "execution_count": 16,
   "id": "15821fa9",
   "metadata": {},
   "outputs": [
    {
     "data": {
      "text/plain": [
       "array([[73, 71, 69, 59, 69]], dtype=int32)"
      ]
     },
     "execution_count": 16,
     "metadata": {},
     "output_type": "execute_result"
    }
   ],
   "source": [
    "#第一位學生的分數\n",
    "scores[0] #(5,)\n",
    "scores[0,:] #(5,)\n",
    "scores[0:1,:] #(1, 5)"
   ]
  },
  {
   "cell_type": "code",
   "execution_count": 8,
   "id": "38ad0c50",
   "metadata": {},
   "outputs": [
    {
     "data": {
      "text/plain": [
       "array([[73, 71, 69],\n",
       "       [98, 77, 61],\n",
       "       [80, 84, 83],\n",
       "       [53, 63, 74],\n",
       "       [80, 61, 98]], dtype=int32)"
      ]
     },
     "execution_count": 8,
     "metadata": {},
     "output_type": "execute_result"
    }
   ],
   "source": [
    "#前5位學生\n",
    "scores[:5]\n",
    "#前5位學生,前3個分數\n",
    "scores[:5,:3]"
   ]
  },
  {
   "cell_type": "code",
   "execution_count": 9,
   "id": "9d3eec29",
   "metadata": {},
   "outputs": [
    {
     "data": {
      "text/plain": [
       "array([ 69,  61,  83,  74,  98, 100,  64,  66,  97,  54,  69,  85,  91,\n",
       "        88,  99,  79,  55,  80,  84,  55,  58,  82,  68,  77,  50,  53,\n",
       "        91,  58,  79,  72,  71,  59,  74,  74,  52,  68,  71,  82,  96,\n",
       "        71,  64,  71,  71,  94,  80,  87,  82,  82,  71,  66], dtype=int32)"
      ]
     },
     "execution_count": 9,
     "metadata": {},
     "output_type": "execute_result"
    }
   ],
   "source": [
    "#第1科分數\n",
    "scores[:,0]\n",
    "scores[:,1]\n",
    "scores[:,2]"
   ]
  },
  {
   "cell_type": "code",
   "execution_count": 10,
   "id": "b940a531",
   "metadata": {},
   "outputs": [
    {
     "data": {
      "text/plain": [
       "array([341, 416, 383, 314, 383, 419, 375, 393, 358, 338, 352, 425, 406,\n",
       "       360, 379, 397, 325, 441, 409, 400, 331, 370, 418, 388, 354, 351,\n",
       "       393, 415, 405, 347, 417, 364, 398, 336, 339, 396, 383, 373, 419,\n",
       "       370, 405, 421, 375, 370, 359, 389, 377, 398, 390, 346], dtype=int32)"
      ]
     },
     "execution_count": 10,
     "metadata": {},
     "output_type": "execute_result"
    }
   ],
   "source": [
    "#ndarray可以陣列運算\n",
    "total = scores[:,0] + scores[:,1] + scores[:,2] + scores[:,3] + scores[:,4]\n",
    "total"
   ]
  },
  {
   "cell_type": "code",
   "execution_count": 11,
   "id": "8d083991",
   "metadata": {},
   "outputs": [
    {
     "data": {
      "text/plain": [
       "array([68.2, 83.2, 76.6, 62.8, 76.6, 83.8, 75. , 78.6, 71.6, 67.6, 70.4,\n",
       "       85. , 81.2, 72. , 75.8, 79.4, 65. , 88.2, 81.8, 80. , 66.2, 74. ,\n",
       "       83.6, 77.6, 70.8, 70.2, 78.6, 83. , 81. , 69.4, 83.4, 72.8, 79.6,\n",
       "       67.2, 67.8, 79.2, 76.6, 74.6, 83.8, 74. , 81. , 84.2, 75. , 74. ,\n",
       "       71.8, 77.8, 75.4, 79.6, 78. , 69.2])"
      ]
     },
     "execution_count": 11,
     "metadata": {},
     "output_type": "execute_result"
    }
   ],
   "source": [
    "#算出均分\n",
    "total / 5"
   ]
  },
  {
   "cell_type": "code",
   "execution_count": null,
   "id": "006918ab",
   "metadata": {},
   "outputs": [
    {
     "data": {
      "text/plain": [
       "array([68.2, 83.2, 76.6, 62.8, 76.6, 83.8, 75. , 78.6, 71.6, 67.6, 70.4,\n",
       "       85. , 81.2, 72. , 75.8, 79.4, 65. , 88.2, 81.8, 80. , 66.2, 74. ,\n",
       "       83.6, 77.6, 70.8, 70.2, 78.6, 83. , 81. , 69.4, 83.4, 72.8, 79.6,\n",
       "       67.2, 67.8, 79.2, 76.6, 74.6, 83.8, 74. , 81. , 84.2, 75. , 74. ,\n",
       "       71.8, 77.8, 75.4, 79.6, 78. , 69.2])"
      ]
     },
     "execution_count": 21,
     "metadata": {},
     "output_type": "execute_result"
    }
   ],
   "source": [
    "#np內的function\n",
    "np.sum(scores,axis=1)\n",
    "np.mean(scores,axis=1)"
   ]
  },
  {
   "cell_type": "code",
   "execution_count": 18,
   "id": "da8de8f5",
   "metadata": {},
   "outputs": [
    {
     "data": {
      "text/plain": [
       "array([68.2, 83.2, 76.6, 62.8, 76.6, 83.8, 75. , 78.6, 71.6, 67.6, 70.4,\n",
       "       85. , 81.2, 72. , 75.8, 79.4, 65. , 88.2, 81.8, 80. , 66.2, 74. ,\n",
       "       83.6, 77.6, 70.8, 70.2, 78.6, 83. , 81. , 69.4, 83.4, 72.8, 79.6,\n",
       "       67.2, 67.8, 79.2, 76.6, 74.6, 83.8, 74. , 81. , 84.2, 75. , 74. ,\n",
       "       71.8, 77.8, 75.4, 79.6, 78. , 69.2])"
      ]
     },
     "execution_count": 18,
     "metadata": {},
     "output_type": "execute_result"
    }
   ],
   "source": [
    "#實體方法\n",
    "scores.sum(axis=1)\n",
    "scores.mean(axis=1)"
   ]
  }
 ],
 "metadata": {
  "kernelspec": {
   "display_name": "LWY",
   "language": "python",
   "name": "python3"
  },
  "language_info": {
   "codemirror_mode": {
    "name": "ipython",
    "version": 3
   },
   "file_extension": ".py",
   "mimetype": "text/x-python",
   "name": "python",
   "nbconvert_exporter": "python",
   "pygments_lexer": "ipython3",
   "version": "3.12.11"
  }
 },
 "nbformat": 4,
 "nbformat_minor": 5
}
