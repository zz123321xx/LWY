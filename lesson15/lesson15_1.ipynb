{
 "cells": [
  {
   "cell_type": "code",
   "execution_count": 1,
   "id": "d56aef86",
   "metadata": {},
   "outputs": [
    {
     "data": {
      "text/plain": [
       "array([10, 20, 30, 40, 50])"
      ]
     },
     "execution_count": 1,
     "metadata": {},
     "output_type": "execute_result"
    }
   ],
   "source": [
    "import numpy as np\n",
    "\n",
    "a = np.array([1,2,3,4,5])\n",
    "\n",
    "a *= 10\n",
    "a"
   ]
  },
  {
   "cell_type": "code",
   "execution_count": 2,
   "id": "42ef5328",
   "metadata": {},
   "outputs": [
    {
     "data": {
      "text/plain": [
       "array([ 3,  7, 11, 15, 19])"
      ]
     },
     "execution_count": 2,
     "metadata": {},
     "output_type": "execute_result"
    }
   ],
   "source": [
    "import numpy as np\n",
    "\n",
    "a = np.array([1,3,5,7,9])\n",
    "b = np.array([2,4,6,8,10])\n",
    "\n",
    "a+b"
   ]
  },
  {
   "cell_type": "code",
   "execution_count": 24,
   "id": "76378c87",
   "metadata": {},
   "outputs": [
    {
     "data": {
      "text/plain": [
       "dtype('int64')"
      ]
     },
     "execution_count": 24,
     "metadata": {},
     "output_type": "execute_result"
    }
   ],
   "source": [
    "#2維ndarray\n",
    "arr = np.array([[1, 3, 5 ],[2, 4, 6]])\n",
    "arr.ndim #維度\n",
    "arr.shape #形狀\n",
    "arr.size #元素數量\n",
    "arr.dtype #型別"
   ]
  },
  {
   "cell_type": "code",
   "execution_count": 36,
   "id": "0035eac8",
   "metadata": {},
   "outputs": [
    {
     "data": {
      "text/plain": [
       "array([[0.91939693, 0.26753477, 0.45118162],\n",
       "       [0.5359976 , 0.19260086, 0.77214662]])"
      ]
     },
     "execution_count": 36,
     "metadata": {},
     "output_type": "execute_result"
    }
   ],
   "source": [
    "np.random.rand()\n",
    "np.random.rand(2,3)"
   ]
  },
  {
   "cell_type": "code",
   "execution_count": 28,
   "id": "dabdc285",
   "metadata": {},
   "outputs": [
    {
     "data": {
      "text/plain": [
       "array([[ 60,  71,  50,  73,  99],\n",
       "       [ 78,  98,  79,  73,  91],\n",
       "       [ 93,  85,  95,  64,  87],\n",
       "       [ 76,  64,  66,  54,  66],\n",
       "       [ 81,  56,  95,  87,  80],\n",
       "       [ 81,  68,  51,  83,  88],\n",
       "       [ 54,  77,  87,  65,  86],\n",
       "       [ 69,  56,  92,  95,  58],\n",
       "       [ 56,  85,  63,  74,  81],\n",
       "       [ 71,  63,  90,  59,  89],\n",
       "       [ 75,  83,  56,  65,  52],\n",
       "       [ 78,  90,  69,  80,  74],\n",
       "       [ 99,  74,  59,  81,  78],\n",
       "       [ 63,  59,  93,  83,  87],\n",
       "       [ 63,  53,  77,  74,  74],\n",
       "       [ 90,  93,  93,  73,  62],\n",
       "       [100,  91,  94,  50,  88],\n",
       "       [ 83,  85,  72,  82,  51],\n",
       "       [ 71,  72,  96,  94,  63],\n",
       "       [ 69,  65,  71,  65,  56],\n",
       "       [ 70,  63,  86,  55,  54],\n",
       "       [ 81,  71,  77,  59,  98],\n",
       "       [ 53,  94,  67,  93,  75],\n",
       "       [ 94,  95,  94,  76,  56],\n",
       "       [ 70,  72,  88,  74,  98],\n",
       "       [ 92,  97,  77,  69,  84],\n",
       "       [ 77,  96,  64,  54,  57],\n",
       "       [ 98,  54,  79,  82,  62],\n",
       "       [ 89,  90,  75,  54,  52],\n",
       "       [ 52,  95,  53,  81,  86],\n",
       "       [ 98, 100,  64,  56,  77],\n",
       "       [ 95,  80,  76,  85,  62],\n",
       "       [ 56,  64,  62,  87,  84],\n",
       "       [ 57,  87,  85,  78,  62],\n",
       "       [ 65,  65,  90,  55,  74],\n",
       "       [ 84,  57,  68,  91,  81],\n",
       "       [ 77,  54,  68,  52,  92],\n",
       "       [ 81,  76,  65,  85,  96],\n",
       "       [ 95,  85,  54,  97,  88],\n",
       "       [ 94,  76,  60,  83,  50],\n",
       "       [ 56,  80,  57,  54,  85],\n",
       "       [ 77,  59,  86,  61,  62],\n",
       "       [ 53,  90,  63,  81,  96],\n",
       "       [ 56,  80,  80,  52,  80],\n",
       "       [ 88,  94,  55,  85,  85],\n",
       "       [ 68,  92,  66,  75,  55],\n",
       "       [ 89,  62,  73,  81,  88],\n",
       "       [ 80,  68,  57,  98,  65],\n",
       "       [ 84,  57,  79,  51,  77],\n",
       "       [ 50,  70,  58,  95,  91]], dtype=int32)"
      ]
     },
     "execution_count": 28,
     "metadata": {},
     "output_type": "execute_result"
    }
   ],
   "source": [
    "scores = np.random.randint(50, 101,size=(50,5))\n",
    "scores"
   ]
  }
 ],
 "metadata": {
  "kernelspec": {
   "display_name": "LWY",
   "language": "python",
   "name": "python3"
  },
  "language_info": {
   "codemirror_mode": {
    "name": "ipython",
    "version": 3
   },
   "file_extension": ".py",
   "mimetype": "text/x-python",
   "name": "python",
   "nbconvert_exporter": "python",
   "pygments_lexer": "ipython3",
   "version": "3.12.11"
  }
 },
 "nbformat": 4,
 "nbformat_minor": 5
}
