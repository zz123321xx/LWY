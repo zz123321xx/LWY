{
 "cells": [
  {
   "cell_type": "code",
   "execution_count": null,
   "id": "d4629ae9",
   "metadata": {},
   "outputs": [
    {
     "name": "stdout",
     "output_type": "stream",
     "text": [
      "優\n"
     ]
    }
   ],
   "source": [
    "#巢狀判斷\n",
    "\n",
    "score = int(input(\"請輸入學生成績\"))\n",
    "if score >= 90:\n",
    "    grade = \"優\"\n",
    "else:\n",
    "    if score >= 80:\n",
    "        grade = \"甲\"\n",
    "    else:\n",
    "        if score >= 70:\n",
    "            grade = \"乙\"\n",
    "        else:\n",
    "            if score >= 60:\n",
    "                grade = \"丙\"\n",
    "            else:grade = \"丁\"\n",
    "print(grade)"
   ]
  },
  {
   "cell_type": "code",
   "execution_count": null,
   "id": "6ae8cf06",
   "metadata": {},
   "outputs": [],
   "source": [
    "#多項判斷\n",
    "\n",
    "score = int(input(\"請輸入學生分數:\"))\n",
    "\n",
    "if score >= 90:\n",
    "    grade = '優'\n",
    "elif score >= 80:\n",
    "   grade = '甲'\n",
    "elif score >= 70:\n",
    "    grade = '乙'\n",
    "elif score >= 60:\n",
    "    grade = '丙'\n",
    "else:\n",
    "    grade = '丁'\n",
    "\n",
    "print(grade)"
   ]
  },
  {
   "cell_type": "code",
   "execution_count": 9,
   "id": "a466e769",
   "metadata": {},
   "outputs": [
    {
     "ename": "NameError",
     "evalue": "name 'loop' is not defined",
     "output_type": "error",
     "traceback": [
      "\u001b[31m---------------------------------------------------------------------------\u001b[39m",
      "\u001b[31mNameError\u001b[39m                                 Traceback (most recent call last)",
      "\u001b[36mCell\u001b[39m\u001b[36m \u001b[39m\u001b[32mIn[9]\u001b[39m\u001b[32m, line 1\u001b[39m\n\u001b[32m----> \u001b[39m\u001b[32m1\u001b[39m \u001b[43mloop\u001b[49m()\n",
      "\u001b[31mNameError\u001b[39m: name 'loop' is not defined"
     ]
    }
   ],
   "source": [
    "loop()"
   ]
  }
 ],
 "metadata": {
  "kernelspec": {
   "display_name": "base",
   "language": "python",
   "name": "python3"
  },
  "language_info": {
   "codemirror_mode": {
    "name": "ipython",
    "version": 3
   },
   "file_extension": ".py",
   "mimetype": "text/x-python",
   "name": "python",
   "nbconvert_exporter": "python",
   "pygments_lexer": "ipython3",
   "version": "3.13.2"
  }
 },
 "nbformat": 4,
 "nbformat_minor": 5
}
