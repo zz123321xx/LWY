{
 "cells": [
  {
   "cell_type": "code",
   "execution_count": 12,
   "id": "b6a3ebe4",
   "metadata": {},
   "outputs": [
    {
     "name": "stdout",
     "output_type": "stream",
     "text": [
      "最終答案是: 666.0\n"
     ]
    }
   ],
   "source": [
    "valuel1=float(input(\"輸入第一個數字\"))\n",
    "valuel2=float(input(\"輸入第一個數字\"))\n",
    "valuel3=float(input(\"輸入第一個數字\"))\n",
    "\n",
    "\n",
    "ans=valuel1 + valuel2 +valuel3\n",
    "print(\"最終答案是:\",ans)"
   ]
  }
 ],
 "metadata": {
  "kernelspec": {
   "display_name": "base",
   "language": "python",
   "name": "python3"
  },
  "language_info": {
   "codemirror_mode": {
    "name": "ipython",
    "version": 3
   },
   "file_extension": ".py",
   "mimetype": "text/x-python",
   "name": "python",
   "nbconvert_exporter": "python",
   "pygments_lexer": "ipython3",
   "version": "3.13.2"
  }
 },
 "nbformat": 4,
 "nbformat_minor": 5
}
