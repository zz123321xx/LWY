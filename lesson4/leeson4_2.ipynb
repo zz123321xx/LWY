{
 "cells": [
  {
   "cell_type": "code",
   "execution_count": 12,
   "id": "b6a3ebe4",
   "metadata": {},
   "outputs": [
    {
     "name": "stdout",
     "output_type": "stream",
     "text": [
      "最終答案是: 666.0\n"
     ]
    }
   ],
   "source": [
    "valuel1=float(input(\"輸入第一個數字\"))\n",
    "valuel2=float(input(\"輸入第一個數字\"))\n",
    "valuel3=float(input(\"輸入第一個數字\"))\n",
    "\n",
    "\n",
    "ans=valuel1 + valuel2 +valuel3\n",
    "print(\"最終答案是:\",ans)"
   ]
  },
  {
   "cell_type": "code",
   "execution_count": 14,
   "id": "866e7d38",
   "metadata": {},
   "outputs": [
    {
     "name": "stdout",
     "output_type": "stream",
     "text": [
      "答案是 : 50\n"
     ]
    }
   ],
   "source": [
    "a=25\n",
    "a=a+25\n",
    "print(\"答案是\",\":\",a)"
   ]
  },
  {
   "cell_type": "code",
   "execution_count": 22,
   "id": "dd551d8c",
   "metadata": {},
   "outputs": [
    {
     "data": {
      "text/plain": [
       "5.0"
      ]
     },
     "execution_count": 22,
     "metadata": {},
     "output_type": "execute_result"
    }
   ],
   "source": [
    "n=25\n",
    "n /=5\n",
    "n"
   ]
  },
  {
   "cell_type": "code",
   "execution_count": 23,
   "id": "6be036cd",
   "metadata": {},
   "outputs": [
    {
     "name": "stdout",
     "output_type": "stream",
     "text": [
      "3數的加總是: 102.0\n"
     ]
    }
   ],
   "source": [
    "total = 0\n",
    "value = float(input(\"請輸入第1個值:\"))\n",
    "total += value\n",
    "\n",
    "value = float(input(\"請輸入第2個值:\"))\n",
    "total += value\n",
    "\n",
    "value = float(input(\"請輸入第3個值:\"))\n",
    "total += value\n",
    "\n",
    "print(\"3數的加總是:\", total)"
   ]
  },
  {
   "cell_type": "code",
   "execution_count": 26,
   "id": "f08e0317",
   "metadata": {},
   "outputs": [
    {
     "name": "stdout",
     "output_type": "stream",
     "text": [
      "a= 3.0\n",
      "b= 4.0\n",
      "斜邊為 5.0\n"
     ]
    }
   ],
   "source": [
    "#三角函數\n",
    "import math\n",
    "a = float(input(\"請輸入a=\"))\n",
    "b = float(input(\"請輸入b=\"))\n",
    "c = math.sqrt(a ** 2 + b ** 2)\n",
    "\n",
    "print(\"a=\", a);\n",
    "print(\"b=\", b);\n",
    "print(\"斜邊為\", c);"
   ]
  },
  {
   "cell_type": "code",
   "execution_count": 46,
   "id": "8dab5f92",
   "metadata": {},
   "outputs": [
    {
     "name": "stdout",
     "output_type": "stream",
     "text": [
      "直角三角形的角度是: 36.86989764584402\n"
     ]
    }
   ],
   "source": [
    "import math\n",
    "\n",
    "side = float(input(\"請輸入斜邊:\"))\n",
    "other_side = float(input(\"請輸入對邊:\"))\n",
    "radian = math.asin(other_side / side)\n",
    "degree = math.degrees(radian)\n",
    "\n",
    "print(\"直角三角形的角度是:\", degree)"
   ]
  },
  {
   "cell_type": "code",
   "execution_count": 43,
   "id": "598c1926",
   "metadata": {},
   "outputs": [
    {
     "data": {
      "text/plain": [
       "0.408248290463863"
      ]
     },
     "execution_count": 43,
     "metadata": {},
     "output_type": "execute_result"
    }
   ],
   "source": [
    "import statistics\n",
    "statistics.stdev([1,2,1,1,1,1])"
   ]
  }
 ],
 "metadata": {
  "kernelspec": {
   "display_name": "base",
   "language": "python",
   "name": "python3"
  },
  "language_info": {
   "codemirror_mode": {
    "name": "ipython",
    "version": 3
   },
   "file_extension": ".py",
   "mimetype": "text/x-python",
   "name": "python",
   "nbconvert_exporter": "python",
   "pygments_lexer": "ipython3",
   "version": "3.13.2"
  }
 },
 "nbformat": 4,
 "nbformat_minor": 5
}
