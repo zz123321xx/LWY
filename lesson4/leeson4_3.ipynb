{
 "cells": [
  {
   "cell_type": "code",
   "execution_count": 3,
   "id": "d213e221",
   "metadata": {},
   "outputs": [
    {
     "name": "stdout",
     "output_type": "stream",
     "text": [
      "不合格\n"
     ]
    }
   ],
   "source": [
    "score=59\n",
    "if score>=60:\n",
    "    print(\"合格\")\n",
    "else:\n",
    "    print(\"不合格\")"
   ]
  },
  {
   "cell_type": "code",
   "execution_count": 17,
   "id": "fc4759ae",
   "metadata": {},
   "outputs": [
    {
     "name": "stdout",
     "output_type": "stream",
     "text": [
      "最終成績: 94.5\n"
     ]
    }
   ],
   "source": [
    "sco = int(input(\"輸入學生的成績\"))\n",
    "yn = input(\"請輸入學生是否符合加分資格(輸入y或n)\")\n",
    "\n",
    "if yn == \"y\":\n",
    "    sco *= 1.05\n",
    "else:\n",
    "    sco *= 1\n",
    "\n",
    "print(\"最終成績:\",sco)"
   ]
  }
 ],
 "metadata": {
  "kernelspec": {
   "display_name": "base",
   "language": "python",
   "name": "python3"
  },
  "language_info": {
   "codemirror_mode": {
    "name": "ipython",
    "version": 3
   },
   "file_extension": ".py",
   "mimetype": "text/x-python",
   "name": "python",
   "nbconvert_exporter": "python",
   "pygments_lexer": "ipython3",
   "version": "3.13.2"
  }
 },
 "nbformat": 4,
 "nbformat_minor": 5
}
